{
 "cells": [
  {
   "cell_type": "code",
   "execution_count": 24,
   "metadata": {},
   "outputs": [
    {
     "name": "stderr",
     "output_type": "stream",
     "text": [
      "No config specified, defaulting to: korpus_malti/shuffled\n",
      "Found cached dataset korpus_malti (C:/Users/Lucas/.cache/huggingface/datasets/MLRS___korpus_malti/shuffled/4.1.0/1e40e18bd238af4ddb9265b251cfdf39d6b7686181dfc2e9bc58f95353949cd5)\n"
     ]
    },
    {
     "data": {
      "application/vnd.jupyter.widget-view+json": {
       "model_id": "ee7ed3d7a02c497bae89f1a5efc26abf",
       "version_major": 2,
       "version_minor": 0
      },
      "text/plain": [
       "  0%|          | 0/3 [00:00<?, ?it/s]"
      ]
     },
     "metadata": {},
     "output_type": "display_data"
    }
   ],
   "source": [
    "import datasets\n",
    "import csv\n",
    "import re\n",
    "dataset = datasets.load_dataset(\"MLRS/korpus_malti\")"
   ]
  },
  {
   "cell_type": "code",
   "execution_count": 25,
   "metadata": {},
   "outputs": [
    {
     "name": "stdout",
     "output_type": "stream",
     "text": [
      "17084545\n"
     ]
    }
   ],
   "source": [
    "maltese_documents = []\n",
    "# sen = dataset['train'][17084544]\n",
    "\n",
    "# print(sen)\n",
    "\n",
    "# sentence = sen['text'].split('\"')[0]\n",
    "# print(sentence)\n",
    "\n",
    "size = len(dataset['train'])\n",
    "print(size)\n",
    "\n",
    "for i in range(11900):\n",
    "    sen = dataset['train'][i]\n",
    "    sentence = sen['text'].split('\"')[0]\n",
    "    maltese_documents.append(sentence)\n",
    "\n",
    "\n"
   ]
  },
  {
   "cell_type": "code",
   "execution_count": 26,
   "metadata": {},
   "outputs": [
    {
     "name": "stdout",
     "output_type": "stream",
     "text": [
      "11900\n"
     ]
    }
   ],
   "source": [
    "print(len(maltese_documents))"
   ]
  },
  {
   "cell_type": "code",
   "execution_count": 27,
   "metadata": {},
   "outputs": [
    {
     "data": {
      "text/plain": [
       "'Modulu 1 (spezzjonijiet perjodiċi tal-prodotti) 1.\\n'"
      ]
     },
     "execution_count": 27,
     "metadata": {},
     "output_type": "execute_result"
    }
   ],
   "source": [
    "maltese_documents[9]"
   ]
  },
  {
   "cell_type": "code",
   "execution_count": 28,
   "metadata": {},
   "outputs": [
    {
     "name": "stdout",
     "output_type": "stream",
     "text": [
      "11315\n"
     ]
    }
   ],
   "source": [
    "with open('maltese_docs.txt', 'w', encoding='utf-8') as f:\n",
    "    for line in maltese_documents:\n",
    "        f.write(f\"{line}\")\n",
    "\n",
    "with open(\"maltese_docs.txt\",\"r\", encoding=\"utf-8\") as f:\n",
    "    print(len(f.readlines()))  # This would give length of files."
   ]
  },
  {
   "cell_type": "code",
   "execution_count": 29,
   "metadata": {},
   "outputs": [],
   "source": [
    "with open('maltese_docs.txt', 'r', encoding='utf-8') as old_file:\n",
    "    lines = old_file.readlines()\n",
    "\n",
    "    with open('docs.txt', 'w', encoding='utf-8') as new_file:\n",
    "        for line in lines:\n",
    "            new_file.write(' '.join(line.split()) + '\\n')"
   ]
  }
 ],
 "metadata": {
  "kernelspec": {
   "display_name": "Python 3",
   "language": "python",
   "name": "python3"
  },
  "language_info": {
   "codemirror_mode": {
    "name": "ipython",
    "version": 3
   },
   "file_extension": ".py",
   "mimetype": "text/x-python",
   "name": "python",
   "nbconvert_exporter": "python",
   "pygments_lexer": "ipython3",
   "version": "3.10.0"
  },
  "orig_nbformat": 4,
  "vscode": {
   "interpreter": {
    "hash": "3bd13bc16400e16874b7ce28af58a129343287e94248a182c1f06fbb6b76ef8e"
   }
  }
 },
 "nbformat": 4,
 "nbformat_minor": 2
}
