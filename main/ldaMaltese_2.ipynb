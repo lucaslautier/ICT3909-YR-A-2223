{
 "cells": [
  {
   "cell_type": "code",
   "execution_count": 1,
   "metadata": {},
   "outputs": [],
   "source": [
    "import re\n",
    "import numpy as np\n",
    "import pandas as  pd\n",
    "from pprint import pprint# Gensim\n",
    "import gensim\n",
    "import gensim.corpora as corpora\n",
    "from gensim.utils import simple_preprocess\n",
    "from gensim.models import CoherenceModel # spaCy for preprocessing\n",
    "import spacy # Plotting tools\n",
    "import nltk\n",
    "import matplotlib.pyplot as plt\n",
    "import pyLDAvis\n",
    "import pyLDAvis.gensim\n"
   ]
  },
  {
   "cell_type": "code",
   "execution_count": 2,
   "metadata": {},
   "outputs": [
    {
     "name": "stderr",
     "output_type": "stream",
     "text": [
      "c:\\Python3\\lib\\site-packages\\ipykernel\\ipkernel.py:283: DeprecationWarning: `should_run_async` will not call `transform_cell` automatically in the future. Please pass the result to `transformed_cell` argument and any exception that happen during thetransform in `preprocessing_exc_tuple` in IPython 7.17 and above.\n",
      "  and should_run_async(code)\n"
     ]
    },
    {
     "data": {
      "text/html": [
       "<div>\n",
       "<style scoped>\n",
       "    .dataframe tbody tr th:only-of-type {\n",
       "        vertical-align: middle;\n",
       "    }\n",
       "\n",
       "    .dataframe tbody tr th {\n",
       "        vertical-align: top;\n",
       "    }\n",
       "\n",
       "    .dataframe thead th {\n",
       "        text-align: right;\n",
       "    }\n",
       "</style>\n",
       "<table border=\"1\" class=\"dataframe\">\n",
       "  <thead>\n",
       "    <tr style=\"text-align: right;\">\n",
       "      <th></th>\n",
       "      <th>data</th>\n",
       "    </tr>\n",
       "  </thead>\n",
       "  <tbody>\n",
       "    <tr>\n",
       "      <th>0</th>\n",
       "      <td>Is-sentenza hija partikolarment importanti rig...</td>\n",
       "    </tr>\n",
       "    <tr>\n",
       "      <th>1</th>\n",
       "      <td>Jistgħu jinqalgħu l- ​ problemi meta relazzjon...</td>\n",
       "    </tr>\n",
       "    <tr>\n",
       "      <th>2</th>\n",
       "      <td>Gazzetta tal-Gvern ta' Malta 19,376</td>\n",
       "    </tr>\n",
       "    <tr>\n",
       "      <th>3</th>\n",
       "      <td>[ Stampa f'paġna 19]</td>\n",
       "    </tr>\n",
       "    <tr>\n",
       "      <th>4</th>\n",
       "      <td>skont kwalunkwe klawżola ta' arbitraġġ li tins...</td>\n",
       "    </tr>\n",
       "    <tr>\n",
       "      <th>...</th>\n",
       "      <td>...</td>\n",
       "    </tr>\n",
       "    <tr>\n",
       "      <th>11310</th>\n",
       "      <td>Memorji dwar il-Bizzilli tal- Festa ta' Santa ...</td>\n",
       "    </tr>\n",
       "    <tr>\n",
       "      <th>11311</th>\n",
       "      <td>jemmen li l-oġġett ma jkunx ġej minn provenjen...</td>\n",
       "    </tr>\n",
       "    <tr>\n",
       "      <th>11312</th>\n",
       "      <td>577</td>\n",
       "    </tr>\n",
       "    <tr>\n",
       "      <th>11313</th>\n",
       "      <td>﻿ Sena ilu bħal-lum kont poġġejt bil-qiegħda b...</td>\n",
       "    </tr>\n",
       "    <tr>\n",
       "      <th>11314</th>\n",
       "      <td>Dispożizzjoni tranżitorja</td>\n",
       "    </tr>\n",
       "  </tbody>\n",
       "</table>\n",
       "<p>11315 rows × 1 columns</p>\n",
       "</div>"
      ],
      "text/plain": [
       "                                                    data\n",
       "0      Is-sentenza hija partikolarment importanti rig...\n",
       "1      Jistgħu jinqalgħu l- ​ problemi meta relazzjon...\n",
       "2                    Gazzetta tal-Gvern ta' Malta 19,376\n",
       "3                                   [ Stampa f'paġna 19]\n",
       "4      skont kwalunkwe klawżola ta' arbitraġġ li tins...\n",
       "...                                                  ...\n",
       "11310  Memorji dwar il-Bizzilli tal- Festa ta' Santa ...\n",
       "11311  jemmen li l-oġġett ma jkunx ġej minn provenjen...\n",
       "11312                                                577\n",
       "11313  ﻿ Sena ilu bħal-lum kont poġġejt bil-qiegħda b...\n",
       "11314                          Dispożizzjoni tranżitorja\n",
       "\n",
       "[11315 rows x 1 columns]"
      ]
     },
     "execution_count": 2,
     "metadata": {},
     "output_type": "execute_result"
    }
   ],
   "source": [
    "df = pd.read_csv('docs.txt', header=None, sep='\\t')\n",
    "\n",
    "df.rename(columns={0:'data'}, inplace= True)\n",
    "df"
   ]
  },
  {
   "cell_type": "code",
   "execution_count": 3,
   "metadata": {},
   "outputs": [
    {
     "name": "stderr",
     "output_type": "stream",
     "text": [
      "c:\\Python3\\lib\\site-packages\\ipykernel\\ipkernel.py:283: DeprecationWarning: `should_run_async` will not call `transform_cell` automatically in the future. Please pass the result to `transformed_cell` argument and any exception that happen during thetransform in `preprocessing_exc_tuple` in IPython 7.17 and above.\n",
      "  and should_run_async(code)\n",
      "<>:3: DeprecationWarning: invalid escape sequence '\\.'\n",
      "<>:3: DeprecationWarning: invalid escape sequence '\\.'\n",
      "<ipython-input-3-b53bc4c7d803>:3: DeprecationWarning: invalid escape sequence '\\.'\n",
      "  df['data'].map(lambda x: re.sub('[,\\.!?]', '', x))\n"
     ]
    },
    {
     "data": {
      "text/plain": [
       "0        is-sentenza hija partikolarment importanti rig...\n",
       "1        jistgħu jinqalgħu l- ​ problemi meta relazzjon...\n",
       "2                       gazzetta tal-gvern ta' malta 19376\n",
       "3                                     [ stampa f'paġna 19]\n",
       "4        skont kwalunkwe klawżola ta' arbitraġġ li tins...\n",
       "                               ...                        \n",
       "11310    memorji dwar il-bizzilli tal- festa ta' santa ...\n",
       "11311    jemmen li l-oġġett ma jkunx ġej minn provenjen...\n",
       "11312                                                  577\n",
       "11313    ﻿ sena ilu bħal-lum kont poġġejt bil-qiegħda b...\n",
       "11314                            dispożizzjoni tranżitorja\n",
       "Name: data_processed, Length: 11315, dtype: object"
      ]
     },
     "execution_count": 3,
     "metadata": {},
     "output_type": "execute_result"
    }
   ],
   "source": [
    "import re\n",
    "df['data_processed']=\\\n",
    "df['data'].map(lambda x: re.sub('[,\\.!?]', '', x))\n",
    "\n",
    "\n",
    "df['data_processed'] = \\\n",
    "df['data_processed'].map(lambda x: x.lower())\n",
    "\n",
    "df['data_processed']"
   ]
  },
  {
   "cell_type": "code",
   "execution_count": 4,
   "metadata": {},
   "outputs": [
    {
     "name": "stderr",
     "output_type": "stream",
     "text": [
      "c:\\Python3\\lib\\site-packages\\ipykernel\\ipkernel.py:283: DeprecationWarning: `should_run_async` will not call `transform_cell` automatically in the future. Please pass the result to `transformed_cell` argument and any exception that happen during thetransform in `preprocessing_exc_tuple` in IPython 7.17 and above.\n",
      "  and should_run_async(code)\n",
      "c:\\Python3\\lib\\site-packages\\win32\\lib\\pywintypes.py:51: DeprecationWarning: getargs: The 'u' format is deprecated. Use 'U' instead.\n",
      "  found = _win32sysloader.GetModuleFilename(filename)\n",
      "c:\\Python3\\lib\\site-packages\\win32\\lib\\pywintypes.py:51: DeprecationWarning: getargs: The 'u' format is deprecated. Use 'U' instead.\n",
      "  found = _win32sysloader.GetModuleFilename(filename)\n",
      "c:\\Python3\\lib\\site-packages\\win32\\lib\\pywintypes.py:65: DeprecationWarning: getargs: The 'u' format is deprecated. Use 'U' instead.\n",
      "  found = _win32sysloader.LoadModule(filename)\n"
     ]
    },
    {
     "name": "stdout",
     "output_type": "stream",
     "text": [
      "u\n"
     ]
    }
   ],
   "source": [
    "import stopwordsiso as stopwords\n",
    "\n",
    "stop_words = []\n",
    "# stop_words =[\"jien\", \"tiegħi\", \"lili nnifsi\", \"aħna\", \"tagħna\", \"tagħna\", \"nfusna\", \"inti\",  \"int\", \"tiegħek\", \"tiegħek\", \"innfuskom\", \"infuskom\", \"hu\", \"lilu\", \"tiegħu\", \"lilu nnifsu\", \"hija\", \"tagħha\", \"lilha nfisha\", \"hija\", \"hija\", \"tagħha\", \"innifisha\", \"huma\", \"tagħhom\", \"lilhom infushom\", \"li\", \n",
    "#                 \"min\", \"dan\", \"li\", \"li ser\", \"dawn\", \"dawk\", \"huwa\", \"huma\", \" kien\", \"kienu\", \"jkun\", \"kien\", \"li jkun\", \"għandu\", \"għandu\", \"kienu\", \"wara\", \"tagħmel\", \"tagħmel\", \"għamilt\", \"tagħmel\" , \"il\", \"u\", \"imma\", \"jekk\", \"jew\", \"għaliex\", \"bħala\", \"sa\", \"filwaqt\", \"ta\", \"minn\", \"għal\", \"ma\", \"madwar\", \"kontra\", \"bejn\", \n",
    "#                 \"fih\", \"permezz\", \"matul\", \"qabel\", \"wara\", \"fuq\" , \"taht\", \"sa\", \"minn\", \"fuq\", \"l'isfel\", \"ġewwa\", \"barra\", \"fuq\", \"fuq\", \"taħt\",  \"aktar\", \"imbagħad\", \"darba\", \"hawn\", \"hemm\", \"meta\",\n",
    "#                 \"fejn\", \"għaliex\", \"kif\", \"kollha\", \"kull\", \"ftit\", \"aktar\",  \"oħrajn\", \"xi wħud\", \"tali\", \"le\", \"anqas\", \"mhux\", \"biss\", \"proprju\", \"istess\", \" hekk\", \"minn\", \" wisq\", \"ħafna\", \"tista\", \"se\", \"biss\", \"ma\", \"m'għandekx\", \n",
    "#                 \"għandha\", \"jkollok\", \"issa\" , \"m'humiex\", \"ma kellux\", \"kenn\", \"mhux\", \"mhux\", \"ma\",\n",
    "#                 \"m'għandux\",  \"m'għandux\", \"ma kellux\", \"ma kienx\", \"kienu\", \"ma kienx\", \"il-\", \"l\", \"fi\", \"biex\", \"bi\", \"lil\", \n",
    "#                 \"lejn\", \"fuq\", \"taht\", \"xi\", \"null\", \"għand\",\"kelel\", \"qed\"]\n",
    "\n",
    "\n",
    "with open(\"stopwords.txt\",mode=\"r\", encoding='utf-8') as f:\n",
    "    for sw in f:\n",
    "        stop_words.append(sw.strip())\n",
    "\n",
    "print(stop_words[1])\n"
   ]
  },
  {
   "cell_type": "code",
   "execution_count": 5,
   "metadata": {},
   "outputs": [
    {
     "name": "stderr",
     "output_type": "stream",
     "text": [
      "c:\\Python3\\lib\\site-packages\\ipykernel\\ipkernel.py:283: DeprecationWarning: `should_run_async` will not call `transform_cell` automatically in the future. Please pass the result to `transformed_cell` argument and any exception that happen during thetransform in `preprocessing_exc_tuple` in IPython 7.17 and above.\n",
      "  and should_run_async(code)\n"
     ]
    },
    {
     "name": "stdout",
     "output_type": "stream",
     "text": [
      "[['is', 'sentenza', 'hija', 'partikolarment', 'importanti', 'rigward', 'ic', 'cirkostanza', 'aggravanti', 'tar', 'recidivita']]\n",
      "['is', 'sentenza', 'hija', 'partikolarment', 'importanti', 'rigward', 'ic', 'cirkostanza', 'aggravanti', 'tar', 'recidivita']\n"
     ]
    }
   ],
   "source": [
    "data = df.data_processed.values.tolist()  \n",
    "# Tokenizing words\n",
    "def sent_to_words(sentences):\n",
    "  for sentence in sentences:\n",
    "    yield(gensim.utils.simple_preprocess(str(sentence), deacc=True))            #deacc=True removes punctuations\n",
    "data_words = list(sent_to_words(data))\n",
    "print(data_words[:1])\n",
    "\n",
    "# Creating bigram and trigram models\n",
    "bigram = gensim.models.Phrases(data_words, min_count=5, threshold=100) # higher threshold fewer phrases.\n",
    "trigram = gensim.models.Phrases(bigram[data_words], threshold=100)\n",
    "# Faster way to get a sentence clubbed as a trigram/bigram\n",
    "bigram_mod = gensim.models.phrases.Phraser(bigram)\n",
    "trigram_mod = gensim.models.phrases.Phraser(trigram)\n",
    "# See trigram example\n",
    "print(trigram_mod[bigram_mod[data_words[0]]])"
   ]
  },
  {
   "cell_type": "code",
   "execution_count": 6,
   "metadata": {},
   "outputs": [
    {
     "name": "stderr",
     "output_type": "stream",
     "text": [
      "c:\\Python3\\lib\\site-packages\\ipykernel\\ipkernel.py:283: DeprecationWarning: `should_run_async` will not call `transform_cell` automatically in the future. Please pass the result to `transformed_cell` argument and any exception that happen during thetransform in `preprocessing_exc_tuple` in IPython 7.17 and above.\n",
      "  and should_run_async(code)\n"
     ]
    }
   ],
   "source": [
    "# Function to remove stopwords\n",
    "# Define function for stopwords, bigrams, trigrams and lemmatization\n",
    "def remove_stopwords(texts):\n",
    "    return [[word for word in simple_preprocess(str(doc)) if word not in stop_words] for doc in texts]\n",
    "\n",
    "# Functions to create bigrams and trigrams\n",
    "def make_bigrams(texts):\n",
    "    return [bigram_mod[doc] for doc in texts]\n",
    "\n",
    "def make_trigrams(texts):\n",
    "    return [trigram_mod[bigram_mod[doc]] for doc in texts]\n",
    "\n",
    "# # Functions to lemmatize words\n",
    "# nlp = spacy.load('en_core_web_sm', disable=['parser', 'ner'])\n",
    "# def lemmatization(texts, allowed_postags=['NOUN', 'ADJ', 'VERB', 'ADV']):\n",
    "#     \"\"\"https://spacy.io/api/annotation\"\"\"\n",
    "#     texts_out = []\n",
    "#     for sent in texts:\n",
    "#         doc = nlp(\" \".join(sent)) \n",
    "#         texts_out.append([token.lemma_ for token in doc if token.pos_ in allowed_postags])"
   ]
  },
  {
   "cell_type": "code",
   "execution_count": 7,
   "metadata": {},
   "outputs": [
    {
     "name": "stderr",
     "output_type": "stream",
     "text": [
      "c:\\Python3\\lib\\site-packages\\ipykernel\\ipkernel.py:283: DeprecationWarning: `should_run_async` will not call `transform_cell` automatically in the future. Please pass the result to `transformed_cell` argument and any exception that happen during thetransform in `preprocessing_exc_tuple` in IPython 7.17 and above.\n",
      "  and should_run_async(code)\n"
     ]
    }
   ],
   "source": [
    "# Running the functions above\n",
    "# Remove Stop Words\n",
    "data_words_nostops = remove_stopwords(data_words)\n",
    "\n",
    "# Form Bigrams\n",
    "data_words_bigrams = make_bigrams(data_words_nostops)\n",
    "\n",
    "# # Do lemmatization keeping only noun, adj, vb, adv\n",
    "# data_lemmatized = lemmatization(data_words_bigrams, allowed_postags=['NOUN', 'ADJ', 'VERB', 'ADV'])\n",
    "\n",
    "# print(data_lemmatized[:1])"
   ]
  },
  {
   "cell_type": "code",
   "execution_count": 8,
   "metadata": {},
   "outputs": [
    {
     "name": "stdout",
     "output_type": "stream",
     "text": [
      "[[(0, 1), (1, 1), (2, 1), (3, 1), (4, 1), (5, 1), (6, 1), (7, 1), (8, 1), (9, 1), (10, 1)]]\n"
     ]
    },
    {
     "name": "stderr",
     "output_type": "stream",
     "text": [
      "c:\\Python3\\lib\\site-packages\\ipykernel\\ipkernel.py:283: DeprecationWarning: `should_run_async` will not call `transform_cell` automatically in the future. Please pass the result to `transformed_cell` argument and any exception that happen during thetransform in `preprocessing_exc_tuple` in IPython 7.17 and above.\n",
      "  and should_run_async(code)\n"
     ]
    }
   ],
   "source": [
    "# Create Dictionary \n",
    "id2word = corpora.Dictionary(data_words)  \n",
    "# Create Corpus \n",
    "texts = data_words  \n",
    "# Term Document Frequency \n",
    "corpus = [id2word.doc2bow(text) for text in texts] \n",
    "\n",
    "# View \n",
    "print(corpus[:1])   # produces indexes for word id and word freq"
   ]
  },
  {
   "cell_type": "code",
   "execution_count": 9,
   "metadata": {},
   "outputs": [
    {
     "name": "stderr",
     "output_type": "stream",
     "text": [
      "c:\\Python3\\lib\\site-packages\\ipykernel\\ipkernel.py:283: DeprecationWarning: `should_run_async` will not call `transform_cell` automatically in the future. Please pass the result to `transformed_cell` argument and any exception that happen during thetransform in `preprocessing_exc_tuple` in IPython 7.17 and above.\n",
      "  and should_run_async(code)\n"
     ]
    },
    {
     "name": "stdout",
     "output_type": "stream",
     "text": [
      "43.900227546691895\n"
     ]
    }
   ],
   "source": [
    "import time\n",
    "# Building topic model\n",
    "start = time.time()\n",
    "lda_model = gensim.models.ldamodel.LdaModel(corpus=corpus,\n",
    "                                           id2word=id2word,\n",
    "                                           num_topics=20, \n",
    "                                           random_state=100,\n",
    "                                           update_every=1,\n",
    "                                           chunksize=100,\n",
    "                                           passes=10,\n",
    "                                           alpha='auto',\n",
    "                                           per_word_topics=True)\n",
    "\n",
    "end = time.time()\n",
    "time_taken = end - start\n",
    "print(time_taken)"
   ]
  },
  {
   "cell_type": "code",
   "execution_count": 10,
   "metadata": {},
   "outputs": [
    {
     "name": "stdout",
     "output_type": "stream",
     "text": [
      "[(0,\n",
      "  '0.188*\"għandu\" + 0.121*\"min\" + 0.085*\"iz\" + 0.045*\"fond\" + 0.029*\"qatt\" + '\n",
      "  '0.015*\"perezempju\" + 0.011*\"universita\" + 0.010*\"kompletament\" + '\n",
      "  '0.002*\"imur\" + 0.000*\"sakemm\"'),\n",
      " (1,\n",
      "  '0.127*\"tiegħu\" + 0.053*\"għas\" + 0.052*\"livell\" + 0.047*\"snin\" + '\n",
      "  '0.040*\"lejn\" + 0.032*\"mis\" + 0.028*\"ricerka\" + 0.027*\"aħjar\" + '\n",
      "  '0.025*\"tmiem\" + 0.024*\"inkluz\"'),\n",
      " (2,\n",
      "  '0.120*\"mhux\" + 0.070*\"oħra\" + 0.068*\"in\" + 0.059*\"gvern\" + 0.038*\"kienu\" + '\n",
      "  '0.034*\"aħħar\" + 0.032*\"anke\" + 0.031*\"biss\" + 0.029*\"tip\" + 0.028*\"aħna\"'),\n",
      " (3,\n",
      "  '0.104*\"fl\" + 0.069*\"artikolu\" + 0.067*\"tas\" + 0.063*\"mal\" + 0.049*\"tar\" + '\n",
      "  '0.040*\"wara\" + 0.038*\"jigi\" + 0.037*\"ue\" + 0.035*\"unjoni\" + '\n",
      "  '0.027*\"tagħhom\"'),\n",
      " (4,\n",
      "  '0.125*\"ministru\" + 0.120*\"jista\" + 0.101*\"sena\" + 0.046*\"jgħid\" + '\n",
      "  '0.037*\"kriterji\" + 0.025*\"staqsa\" + 0.025*\"pazjenti\" + 0.023*\"darba\" + '\n",
      "  '0.022*\"barranin\" + 0.020*\"kura\"'),\n",
      " (5,\n",
      "  '0.128*\"ta\" + 0.117*\"tal\" + 0.110*\"li\" + 0.084*\"il\" + 0.029*\"għall\" + '\n",
      "  '0.027*\"fil\" + 0.023*\"jew\" + 0.022*\"ma\" + 0.021*\"għal\" + 0.020*\"mill\"'),\n",
      " (6,\n",
      "  '0.126*\"informazzjoni\" + 0.095*\"taħt\" + 0.076*\"għar\" + 0.061*\"persuna\" + '\n",
      "  '0.036*\"għaliex\" + 0.036*\"the\" + 0.022*\"problemi\" + 0.014*\"relazzjoni\" + '\n",
      "  '0.013*\"gwida\" + 0.012*\"for\"'),\n",
      " (7,\n",
      "  '0.083*\"għat\" + 0.077*\"direttiva\" + 0.065*\"legali\" + 0.063*\"xogħol\" + '\n",
      "  '0.039*\"tax\" + 0.037*\"persuni\" + 0.028*\"sħiħ\" + 0.027*\"ħajja\" + 0.023*\"ix\" + '\n",
      "  '0.022*\"partijiet\"'),\n",
      " (8,\n",
      "  '0.117*\"fis\" + 0.087*\"wkoll\" + 0.071*\"anness\" + 0.051*\"ftehim\" + '\n",
      "  '0.044*\"dritt\" + 0.041*\"tliet\" + 0.037*\"kundizzjonijiet\" + 0.034*\"mit\" + '\n",
      "  '0.022*\"jieħdu\" + 0.020*\"lura\"'),\n",
      " (9,\n",
      "  '0.087*\"hawn\" + 0.066*\"ic\" + 0.065*\"iktar\" + 0.052*\"taz\" + 0.049*\"gie\" + '\n",
      "  '0.037*\"offerti\" + 0.032*\"kap\" + 0.029*\"ekonomija\" + 0.023*\"għawdex\" + '\n",
      "  '0.016*\"kongunt\"'),\n",
      " (10,\n",
      "  '0.089*\"process\" + 0.081*\"art\" + 0.029*\"xierqa\" + 0.022*\"miktub\" + '\n",
      "  '0.021*\"zgħazagħ\" + 0.013*\"garanzija\" + 0.005*\"specjalment\" + 0.004*\"bdiewa\" '\n",
      "  '+ 0.003*\"agrikola\" + 0.001*\"trasparenti\"'),\n",
      " (11,\n",
      "  '0.163*\"kif\" + 0.076*\"se\" + 0.064*\"ukoll\" + 0.056*\"fir\" + 0.054*\"ewropea\" + '\n",
      "  '0.045*\"bejn\" + 0.043*\"billi\" + 0.040*\"kemm\" + 0.033*\"ħafna\" + '\n",
      "  '0.021*\"kontra\"'),\n",
      " (12,\n",
      "  '0.131*\"fuq\" + 0.122*\"biex\" + 0.072*\"kien\" + 0.054*\"xi\" + 0.050*\"kull\" + '\n",
      "  '0.050*\"hemm\" + 0.041*\"sabiex\" + 0.034*\"fejn\" + 0.033*\"għax\" + 0.022*\"hu\"'),\n",
      " (13,\n",
      "  '0.118*\"rigward\" + 0.070*\"għad\" + 0.031*\"diga\" + 0.030*\"jagħtu\" + '\n",
      "  '0.029*\"kondizzjonijiet\" + 0.025*\"sentenza\" + 0.023*\"teknici\" + '\n",
      "  '0.017*\"obbligi\" + 0.017*\"access\" + 0.016*\"partikolarment\"'),\n",
      " (14,\n",
      "  '0.194*\"tigi\" + 0.097*\"hekk\" + 0.054*\"barra\" + 0.050*\"referenza\" + '\n",
      "  '0.040*\"punt\" + 0.028*\"saret\" + 0.016*\"annimali\" + 0.012*\"iv\" + '\n",
      "  '0.007*\"għaliha\" + 0.000*\"post\"'),\n",
      " (15,\n",
      "  '0.109*\"generali\" + 0.103*\"uzu\" + 0.096*\"jien\" + 0.033*\"isiru\" + '\n",
      "  '0.032*\"investigazzjoni\" + 0.021*\"għadhom\" + 0.016*\"minnu\" + 0.015*\"jaraw\" + '\n",
      "  '0.004*\"hux\" + 0.000*\"ngħid\"'),\n",
      " (16,\n",
      "  '0.103*\"lil\" + 0.103*\"ikun\" + 0.070*\"għalhekk\" + 0.059*\"kont\" + '\n",
      "  '0.051*\"awtoritajiet\" + 0.044*\"servizz\" + 0.032*\"irid\" + 0.032*\"jagħmel\" + '\n",
      "  '0.024*\"jagħti\" + 0.023*\"forsi\"'),\n",
      " (17,\n",
      "  '0.139*\"kumitat\" + 0.094*\"kienet\" + 0.039*\"mr\" + 0.034*\"emenda\" + '\n",
      "  '0.022*\"parlamentari\" + 0.015*\"to\" + 0.010*\"chairman\" + 0.009*\"policy\" + '\n",
      "  '0.006*\"segretarju\" + 0.005*\"mozzjoni\"'),\n",
      " (18,\n",
      "  '0.131*\"dwar\" + 0.080*\"kummissjoni\" + 0.060*\"kunsill\" + 0.059*\"regolament\" + '\n",
      "  '0.055*\"membri\" + 0.053*\"onor\" + 0.053*\"nru\" + 0.046*\"ke\" + 0.045*\"istati\" + '\n",
      "  '0.035*\"ewropew\"'),\n",
      " (19,\n",
      "  '0.169*\"nazzjonali\" + 0.049*\"konformita\" + 0.034*\"mad\" + 0.031*\"notifika\" + '\n",
      "  '0.000*\"taħdem\" + 0.000*\"istatistika\" + 0.000*\"esperti\" + 0.000*\"ħidma\" + '\n",
      "  '0.000*\"ufficcji\" + 0.000*\"gruppi\"')]\n"
     ]
    },
    {
     "name": "stderr",
     "output_type": "stream",
     "text": [
      "c:\\Python3\\lib\\site-packages\\ipykernel\\ipkernel.py:283: DeprecationWarning: `should_run_async` will not call `transform_cell` automatically in the future. Please pass the result to `transformed_cell` argument and any exception that happen during thetransform in `preprocessing_exc_tuple` in IPython 7.17 and above.\n",
      "  and should_run_async(code)\n"
     ]
    }
   ],
   "source": [
    "pprint(lda_model.print_topics())\n",
    "doc_lda = lda_model[corpus]\n"
   ]
  },
  {
   "cell_type": "code",
   "execution_count": 15,
   "metadata": {},
   "outputs": [
    {
     "name": "stderr",
     "output_type": "stream",
     "text": [
      "c:\\Python3\\lib\\site-packages\\ipykernel\\ipkernel.py:283: DeprecationWarning: `should_run_async` will not call `transform_cell` automatically in the future. Please pass the result to `transformed_cell` argument and any exception that happen during thetransform in `preprocessing_exc_tuple` in IPython 7.17 and above.\n",
      "  and should_run_async(code)\n"
     ]
    },
    {
     "name": "stdout",
     "output_type": "stream",
     "text": [
      "\n",
      "Perplexity:  -16.66572921507155\n",
      "\n",
      "U_mass:  -10.134818785166585\n"
     ]
    }
   ],
   "source": [
    "# Compute Perplexity\n",
    "print('\\nPerplexity: ', lda_model.log_perplexity(corpus))  \n",
    "# a measure of how good the model is. lower the better.\n",
    "\n",
    "# # Compute Coherence Score - U mass\n",
    "coherence_model_lda = CoherenceModel(model=lda_model, corpus=corpus, dictionary=id2word, coherence='u_mass')\n",
    "coherence_lda = coherence_model_lda.get_coherence()\n",
    "print('\\nU_mass: ', coherence_lda)"
   ]
  },
  {
   "cell_type": "code",
   "execution_count": 16,
   "metadata": {},
   "outputs": [
    {
     "name": "stderr",
     "output_type": "stream",
     "text": [
      "c:\\Python3\\lib\\site-packages\\ipykernel\\ipkernel.py:283: DeprecationWarning: `should_run_async` will not call `transform_cell` automatically in the future. Please pass the result to `transformed_cell` argument and any exception that happen during thetransform in `preprocessing_exc_tuple` in IPython 7.17 and above.\n",
      "  and should_run_async(code)\n",
      "c:\\Python3\\lib\\site-packages\\pyLDAvis\\_prepare.py:244: FutureWarning: In a future version of pandas all arguments of DataFrame.drop except for the argument 'labels' will be keyword-only.\n",
      "  by='saliency', ascending=False).head(R).drop('saliency', 1)\n"
     ]
    },
    {
     "data": {
      "text/html": [
       "\n",
       "<link rel=\"stylesheet\" type=\"text/css\" href=\"https://cdn.jsdelivr.net/gh/bmabey/pyLDAvis@3.4.0/pyLDAvis/js/ldavis.v1.0.0.css\">\n",
       "\n",
       "\n",
       "<div id=\"ldavis_el5426825681910932009877778672\" style=\"background-color:white;\"></div>\n",
       "<script type=\"text/javascript\">\n",
       "\n",
       "var ldavis_el5426825681910932009877778672_data = {\"mdsDat\": {\"x\": [-0.47739386776181436, -0.2051167646749039, -0.1469789450943416, -0.12205955975243502, -0.05686621904944197, 0.007263176453285598, 0.03270850465784, 0.05193962276668014, 0.045701905395109696, 0.05716342067166926, 0.062007049815683904, 0.07431902874232817, 0.0705286738757202, 0.0739134223327493, 0.07512438815379018, 0.07584121613882268, 0.08638712122097299, 0.09291462964970446, 0.10194685542745596, 0.10065634103112366], \"y\": [0.25200891772033945, -0.33566264402683277, -0.1229698631529382, -0.08204078267206508, -0.020928026750489274, 0.008392731574961364, 0.015588483326737991, 0.0194989631639508, 0.018253434256833435, 0.020308918297697688, 0.02102165920073011, 0.022514400355117245, 0.022145695537945365, 0.022526615536899122, 0.02268221521738794, 0.022666664365058493, 0.023426071052570295, 0.023622133912471446, 0.023450917007897854, 0.023493496075726105], \"topics\": [1, 2, 3, 4, 5, 6, 7, 8, 9, 10, 11, 12, 13, 14, 15, 16, 17, 18, 19, 20], \"cluster\": [1, 1, 1, 1, 1, 1, 1, 1, 1, 1, 1, 1, 1, 1, 1, 1, 1, 1, 1, 1], \"Freq\": [55.888805109665654, 8.872981229023988, 6.989506625327631, 5.333126532735802, 4.146932280097444, 2.9727795606575245, 2.1982402261802396, 1.6563426859259593, 1.6436895449000257, 1.5789370988865812, 1.4154472294751939, 1.1498093621693812, 1.1470795212565796, 1.110743995110333, 1.0838698323530325, 0.9524376096549815, 0.6505515672794505, 0.6058963258137656, 0.3079335291693912, 0.29489013431703814]}, \"tinfo\": {\"Term\": [\"ta\", \"tal\", \"li\", \"il\", \"fuq\", \"biex\", \"fl\", \"kif\", \"dwar\", \"artikolu\", \"tas\", \"mal\", \"kien\", \"mhux\", \"kummissjoni\", \"tieg\\u0127u\", \"tar\", \"xi\", \"se\", \"g\\u0127andu\", \"kunsill\", \"kull\", \"hemm\", \"regolament\", \"tigi\", \"g\\u0127all\", \"membri\", \"wara\", \"ministru\", \"ukoll\", \"ta\", \"li\", \"il\", \"tal\", \"g\\u0127all\", \"fil\", \"jew\", \"ma\", \"g\\u0127al\", \"mill\", \"dan\", \"minn\", \"ir\", \"is\", \"it\", \"lill\", \"din\", \"id\", \"huwa\", \"jekk\", \"g\\u0127andhom\", \"mod\", \"tat\", \"aktar\", \"qed\", \"tad\", \"dawn\", \"hija\", \"jigu\", \"dak\", \"fl\", \"artikolu\", \"tas\", \"mal\", \"tar\", \"wara\", \"jigi\", \"ue\", \"unjoni\", \"tag\\u0127hom\", \"ikunu\", \"gej\", \"jkunu\", \"jistg\\u0127u\", \"permezz\", \"triq\", \"paragrafu\", \"numru\", \"prodotti\", \"matul\", \"o\\u0127rajn\", \"servizzi\", \"sistema\", \"flimkien\", \"sigurta\", \"gdid\", \"dicembru\", \"sal\", \"lulju\", \"bagit\", \"fuq\", \"biex\", \"kien\", \"xi\", \"kull\", \"hemm\", \"sabiex\", \"fejn\", \"g\\u0127ax\", \"hu\", \"kaz\", \"qorti\", \"stat\", \"qasam\", \"quddiem\", \"mid\", \"tag\\u0127na\", \"talba\", \"kollox\", \"bzonn\", \"liema\", \"responsabbli\", \"alla\", \"tul\", \"trid\", \"kodici\", \"fin\", \"mog\\u0127ti\", \"aqwa\", \"jum\", \"dwar\", \"kummissjoni\", \"kunsill\", \"regolament\", \"membri\", \"onor\", \"nru\", \"ke\", \"istati\", \"ewropew\", \"parlament\", \"decizjoni\", \"fatt\", \"politika\", \"ilma\", \"proposta\", \"bi\", \"fiha\", \"ebda\", \"trasport\", \"komunita\", \"jag\\u0127mlu\", \"bank\", \"jemenda\", \"bid\", \"dazju\", \"imsemmija\", \"kazijiet\", \"monitoragg\", \"kapacita\", \"kif\", \"se\", \"ukoll\", \"fir\", \"ewropea\", \"bejn\", \"billi\", \"kemm\", \"\\u0127afna\", \"kontra\", \"applikazzjoni\", \"farrugia\", \"se\\u0127\\u0127\", \"prim\", \"programm\", \"jkollhom\", \"protezzjoni\", \"cittadini\", \"politici\", \"ifisser\", \"medicini\", \"kooperazzjoni\", \"agenzija\", \"glieda\", \"efficjenti\", \"jitlob\", \"traffikar\", \"postijiet\", \"fruntieri\", \"jo\\u0127orgu\", \"mhux\", \"o\\u0127ra\", \"in\", \"gvern\", \"kienu\", \"a\\u0127\\u0127ar\", \"anke\", \"biss\", \"tip\", \"a\\u0127na\", \"nies\", \"sur\", \"ftit\", \"\\u0127addiema\", \"kollu\", \"na\\u0127seb\", \"bir\", \"\\u0127a\", \"mog\\u0127tija\", \"laqg\\u0127a\", \"jie\\u0127u\", \"kellhom\", \"isptar\", \"assigurazzjoni\", \"kwistjoni\", \"regjuni\", \"rispett\", \"imma\", \"lokali\", \"na\\u0127a\", \"tan\", \"dawk\", \"fit\", \"tieg\\u0127u\", \"g\\u0127as\", \"livell\", \"snin\", \"lejn\", \"mis\", \"ricerka\", \"a\\u0127jar\", \"tmiem\", \"inkluz\", \"\\u0127ames\", \"\\u0127aga\", \"tfal\", \"ja\\u0127dmu\", \"xieraq\", \"ambjentali\", \"akbar\", \"addizzjonali\", \"kieku\", \"prezzijiet\", \"istudenti\", \"jaslu\", \"naraw\", \"jintuza\", \"aktarx\", \"krizi\", \"indja\", \"\\u0127amrija\", \"tkopri\", \"qalet\", \"g\\u0127at\", \"direttiva\", \"legali\", \"xog\\u0127ol\", \"tax\", \"persuni\", \"s\\u0127i\\u0127\", \"\\u0127ajja\", \"ix\", \"partijiet\", \"arrangamenti\", \"kwistjonijiet\", \"laqg\\u0127at\", \"qafas\", \"specifici\", \"bis\", \"tizgura\", \"infrastruttura\", \"passi\", \"stati\", \"setturi\", \"possibbilta\", \"privata\", \"twaqqif\", \"bilanc\", \"tindirizza\", \"kostijiet\", \"lokali\", \"entitajiet\", \"notifikat\", \"ministru\", \"jista\", \"sena\", \"jg\\u0127id\", \"kriterji\", \"staqsa\", \"pazjenti\", \"darba\", \"barranin\", \"kura\", \"ii\", \"galea\", \"anzjani\", \"jintuzaw\", \"qalb\", \"mhix\", \"mario\", \"inhuma\", \"funzjoni\", \"vici\", \"nuqqas\", \"leave\", \"joseph\", \"cuschieri\", \"ilu\", \"frodulenti\", \"negligenza\", \"eskluzjoni\", \"nixtarr\", \"poggejt\", \"lum\", \"me\\u0127tiega\", \"fit\", \"tan\", \"elezzjoni\", \"qieg\\u0127da\", \"ragunijiet\", \"g\\u0127azla\", \"rizultati\", \"dawk\", \"fis\", \"wkoll\", \"anness\", \"ftehim\", \"dritt\", \"tliet\", \"kundizzjonijiet\", \"mit\", \"jie\\u0127du\", \"lura\", \"sehem\", \"agenda\", \"jinsab\", \"g\\u0127arfien\", \"ministri\", \"istadju\", \"facilita\", \"mira\", \"iii\", \"jinbeda\", \"emendat\", \"semplici\", \"allowance\", \"impjegat\", \"kollettiv\", \"artikli\", \"grad\", \"varjetajiet\", \"evelyn\", \"rimunerazzjoni\", \"att\", \"drenagg\", \"proceduri\", \"issa\", \"fondi\", \"fit\", \"tnaqqis\", \"post\", \"data\", \"pajjizi\", \"isem\", \"dawk\", \"internazzjonali\", \"ng\\u0127id\", \"tan\", \"lil\", \"ikun\", \"g\\u0127alhekk\", \"kont\", \"awtoritajiet\", \"servizz\", \"irid\", \"jag\\u0127mel\", \"jag\\u0127ti\", \"forsi\", \"lis\", \"louis\", \"pazjent\", \"nixtarr\", \"poggejt\", \"qieg\\u0127da\", \"elezzjoni\", \"ilu\", \"notifikat\", \"entitajiet\", \"lum\", \"beneficcji\", \"rizultati\", \"attrici\", \"socjeta\", \"me\\u0127tieg\", \"\\u0127add\", \"operazzjonali\", \"rabtiet\", \"ddokumentati\", \"dawk\", \"attivitajiet\", \"imma\", \"stabbiliti\", \"pajjiz\", \"lokali\", \"fit\", \"g\\u0127andu\", \"min\", \"iz\", \"fond\", \"qatt\", \"perezempju\", \"universita\", \"kompletament\", \"imur\", \"provenjenza\", \"kriminuza\", \"jemmen\", \"verament\", \"oggett\", \"sakemm\", \"jkunx\", \"na\\u0127a\", \"mard\", \"puplesija\", \"zona\", \"jirrisolvu\", \"djamanti\", \"ro\", \"bei\", \"vapur\", \"provduti\", \"arma\", \"protection\", \"subsidiary\", \"record\", \"amerika\", \"imsejja\\u0127\", \"jibda\", \"zewg\", \"data\", \"peress\", \"iii\", \"edukazzjoni\", \"fit\", \"dawk\", \"dik\", \"socjali\", \"affarijiet\", \"internazzjonali\", \"ng\\u0127id\", \"informazzjoni\", \"ta\\u0127t\", \"g\\u0127ar\", \"persuna\", \"g\\u0127aliex\", \"the\", \"problemi\", \"relazzjoni\", \"gwida\", \"for\", \"elettroniku\", \"termini\", \"wisq\", \"gust\", \"wirt\", \"beneficcju\", \"rikostituzzjoni\", \"struzzjonijiet\", \"of\", \"kumpannija\", \"kuntratt\", \"eskluzjoni\", \"frodulenti\", \"negligenza\", \"issodisfar\", \"\\u0127azina\", \"verifika\", \"twettiq\", \"g\\u0127azla\", \"tiddeciedi\", \"ragunijiet\", \"me\\u0127tiega\", \"tan\", \"fit\", \"nuqqas\", \"dawk\", \"hawn\", \"ic\", \"iktar\", \"taz\", \"gie\", \"offerti\", \"kap\", \"ekonomija\", \"g\\u0127awdex\", \"kongunt\", \"zee\", \"dikjarazzjoni\", \"dibattitu\", \"kaxxa\", \"rimarki\", \"skola\", \"chairperson\", \"osservat\", \"cifra\", \"hijiex\", \"vera\", \"g\\u0127edtlux\", \"attent\", \"joqg\\u0127od\", \"tard\", \"ng\\u0127id\", \"zwiemel\", \"g\\u0127az\", \"digriet\", \"zona\", \"zejt\", \"dik\", \"lokali\", \"traffiku\", \"fit\", \"rigward\", \"g\\u0127ad\", \"diga\", \"jag\\u0127tu\", \"kondizzjonijiet\", \"sentenza\", \"teknici\", \"obbligi\", \"access\", \"partikolarment\", \"pagna\", \"ssir\", \"gurnal\", \"mg\", \"nofs\", \"banek\", \"mhumiex\", \"doza\", \"valuri\", \"ml\", \"sewwa\", \"operazzjoni\", \"fornitur\", \"regolatorji\", \"idoneita\", \"introduzzjoni\", \"pass\", \"spjegat\", \"kimici\", \"ulterjuri\", \"drittijiet\", \"sustanzi\", \"kontroll\", \"legizlazzjoni\", \"dawk\", \"tigi\", \"hekk\", \"barra\", \"referenza\", \"punt\", \"saret\", \"annimali\", \"iv\", \"g\\u0127aliha\", \"organizzata\", \"zambja\", \"ikunx\", \"vverifikata\", \"twettaq\", \"zjara\", \"fattibbli\", \"determinat\", \"istandards\", \"post\", \"fiz\", \"\\u0127sieb\", \"sikurezza\", \"valutazzjoni\", \"ottubru\", \"internazzjonali\", \"assistenza\", \"pprovduta\", \"sekondarji\", \"arma\", \"spjegati\", \"riforma\", \"tard\", \"perjodu\", \"msemmija\", \"awtorita\", \"fit\", \"imma\", \"generali\", \"uzu\", \"jien\", \"isiru\", \"investigazzjoni\", \"g\\u0127adhom\", \"minnu\", \"jaraw\", \"hux\", \"g\\u0127edtlux\", \"attent\", \"vera\", \"joqg\\u0127od\", \"nixtarr\", \"poggejt\", \"cifra\", \"elezzjoni\", \"assistenza\", \"qieg\\u0127da\", \"hijiex\", \"lum\", \"ilu\", \"rizultati\", \"pprovduta\", \"medicina\", \"kulma\", \"ng\\u0127id\", \"preferenzjali\", \"esportaturi\", \"naturali\", \"direttur\", \"dik\", \"finanzjarja\", \"fit\", \"dawk\", \"kumitat\", \"kienet\", \"mr\", \"emenda\", \"parlamentari\", \"to\", \"chairman\", \"policy\", \"segretarju\", \"mozzjoni\", \"grupp\", \"isem\", \"speaker\", \"benevolence\", \"bosanska\", \"center\", \"educational\", \"idealna\", \"futura\", \"bosnja\", \"\\u0127erzegovina\", \"permanenti\", \"registrata\", \"becf\", \"charitable\", \"foundation\", \"successur\", \"guridiku\", \"umanitarja\", \"g\\u0127ada\", \"affarijiet\", \"organizzazzjoni\", \"mistoqsija\", \"lokali\", \"ie\\u0127or\", \"abbozz\", \"nisa\", \"ng\\u0127id\", \"traffiku\", \"tan\", \"ragunijiet\", \"waqt\", \"process\", \"art\", \"xierqa\", \"miktub\", \"zg\\u0127azag\\u0127\", \"garanzija\", \"specjalment\", \"bdiewa\", \"agrikola\", \"trasparenti\", \"idoneita\", \"riflessjoni\", \"spjegat\", \"introduzzjoni\", \"kimici\", \"ulterjuri\", \"pass\", \"legizlazzjoni\", \"bei\", \"medicines\", \"approval\", \"tamministra\", \"xv\", \"tippartecipa\", \"efsi\", \"imqaddsa\", \"iskeda\", \"crr\", \"sovrani\", \"tgerbib\", \"sustanzi\", \"kontroll\", \"mag\\u0127rufa\", \"bicca\", \"jizgura\", \"jistieden\", \"pjanijiet\", \"fondi\", \"kondotta\", \"imsemmi\", \"jistabbilixxi\", \"fit\", \"dawk\", \"\\u0127idma\", \"nazzjonali\", \"konformita\", \"mad\", \"notifika\", \"istatistika\", \"kumitati\", \"tikketta\", \"esperti\", \"ta\\u0127dem\", \"konsumatur\", \"ufficcji\", \"gruppi\", \"\\u0127idma\", \"px\", \"fusion\", \"column\", \"margin\", \"important\", \"builder\", \"width\", \"right\", \"padding\", \"left\", \"jizguraw\", \"tissorvelja\", \"ccps\", \"finalita\", \"settlement\", \"body\", \"wrapper\", \"isvizzera\", \"varjetajiet\", \"digriet\", \"et\", \"doganali\", \"kompetenti\", \"pubblikazzjoni\", \"dawk\", \"fit\", \"civili\"], \"Freq\": [14030.0, 12890.0, 12050.0, 9192.0, 1805.0, 1684.0, 1814.0, 1330.0, 1373.0, 1213.0, 1176.0, 1100.0, 993.0, 700.0, 840.0, 552.0, 862.0, 749.0, 621.0, 426.0, 634.0, 692.0, 687.0, 619.0, 365.0, 3181.0, 582.0, 707.0, 406.0, 523.0, 14029.415216528834, 12049.671527140255, 9191.367910014744, 12888.058338642039, 3180.1486727566535, 2956.62978568006, 2569.490714565513, 2427.2868643543893, 2277.468199305327, 2238.126628225605, 2007.6765592708311, 1948.1490707731214, 1602.418141754645, 1508.266497869256, 1456.5647322502614, 1318.6474676100022, 1266.6364589725015, 1183.263660265771, 1139.410050192286, 1080.4292427113921, 1078.2673072530986, 1064.874697879933, 1045.0624533773173, 1030.1456518493421, 989.9777596598863, 920.7364142787839, 906.1513908683777, 784.197939188243, 766.5731869949037, 742.6060336025398, 1813.694754640616, 1212.0570040980624, 1175.3221968602659, 1099.2658385157767, 861.9730369745538, 706.1968180989759, 664.5651120418245, 645.2364123183509, 608.4357103076529, 477.3649249130142, 429.36435570423146, 364.0502764235984, 317.23295096513533, 307.32203236037566, 297.5177292864996, 262.32731859186345, 253.91474174328096, 251.32167184608852, 248.48860316842305, 232.51359286784216, 225.67003365969867, 222.3522350965772, 217.26771831202944, 205.26316079985284, 173.01570303275722, 172.64923247319902, 138.85495508269554, 138.8118112444658, 106.01186678754765, 102.56633611836675, 1804.838556715645, 1683.6730222817023, 992.2619457592668, 748.6269957583745, 691.2162066038303, 686.4574965141812, 570.0730132912423, 469.6748321840678, 448.63912919552337, 306.23215874037794, 279.5966741807266, 257.3213976447261, 212.25024776611238, 192.63171999157294, 192.38527590176722, 178.7056433247687, 167.3686643518372, 134.2485540265083, 125.21290270724809, 114.45889377480309, 113.7967690388748, 111.0962219437488, 110.502106963137, 108.58319166880037, 105.17361501214967, 104.77248043443205, 99.03702523014432, 90.51611001622402, 84.26542551097018, 82.9254770458681, 1372.9647283588208, 839.6432942293842, 633.0223079549625, 618.2072393766381, 581.3546184678274, 554.6363392857468, 551.5058456460815, 483.1626904324956, 474.2361230853292, 365.11006591889867, 281.1600307018185, 262.96451537099495, 179.58742132636397, 169.91066230822943, 161.8497526152123, 149.96165336420285, 136.19389145648728, 135.99244910929534, 129.79398920611035, 109.70235098699882, 105.2402207025645, 76.82887376929939, 70.01903942134936, 61.23442690985038, 56.26102756173532, 55.93460377088428, 54.63395224138526, 54.236614566848566, 51.56461266281975, 41.66732172963137, 1329.8664246782955, 620.1453823095491, 522.1472760783233, 456.34087680734416, 441.99525335387307, 367.05062858573956, 351.0871140200859, 329.56211205708, 272.9748982026746, 174.93856174288334, 156.0021794790151, 149.0966753345158, 132.11059716027353, 129.09425492778567, 128.75074530348232, 113.62421432834903, 107.50421597356011, 106.26591378886185, 53.9640349406977, 53.84870961800617, 51.00846585087577, 43.5110734032648, 41.6307047904073, 37.73359281496057, 37.52329615607817, 37.287245395904684, 34.541798154774895, 30.88370681262531, 27.525234436248542, 27.47504681064714, 699.2902899110171, 409.2473243971325, 400.1362162357648, 346.7620536438743, 225.0755673534093, 198.52542793665774, 188.7114233819177, 182.76305477327176, 168.44893978241993, 161.50535339492785, 158.53369173284514, 117.05877265507274, 109.357249416517, 109.06313003549394, 106.68749844950393, 81.09821330272311, 78.91256991309993, 73.19911214719433, 69.33911536895914, 68.49157295788835, 53.54236235128366, 49.10316582499066, 30.514256482700247, 27.162956233108275, 26.617880261185984, 21.547641781832883, 9.552008679803992, 0.07427676470180963, 0.07428285698668134, 0.07426801735130388, 0.07427480665741419, 0.07428154275579636, 0.07427805232883056, 551.0553682726942, 229.27852034637138, 223.4507886344567, 202.31737258114137, 172.64999265105598, 137.7606189435057, 120.89652965177126, 115.9916510525631, 107.26353420361427, 102.01805996294419, 74.98559250662662, 74.36189370996529, 72.8385885872642, 69.76342145730499, 62.213203576028576, 60.283853236579304, 59.95981639809839, 51.73034110869884, 51.44304789143125, 42.114704651214616, 35.694792272984195, 34.481898229230744, 25.3929122846593, 23.61575587757234, 22.674577286676232, 21.73309249893668, 20.041634947861652, 19.948933853508848, 17.458481827353474, 14.569929586756142, 269.31655796255, 251.29903115255786, 211.10899542006572, 204.42090878025292, 125.54738170711205, 119.33693574542063, 91.39864751465402, 88.33852323670757, 74.29064764180806, 72.65319679692062, 48.53774006752694, 46.06645804187411, 45.611236179107564, 44.38856832910021, 40.80641199362368, 37.784993185653384, 23.960056544231804, 22.72446865656026, 22.537360343249283, 22.304260824437236, 21.621469012549753, 18.89351963152332, 18.523718464201785, 17.67998475456877, 14.986943153876119, 11.98166149116274, 4.444031526566597, 0.05702658086310663, 0.05700479717795155, 0.05700420426327667, 405.4070712045155, 387.8188694309743, 327.1307249014322, 148.35831466416764, 118.41171595388413, 81.77776477211472, 81.66019164884248, 74.92526526214917, 72.60254235794281, 65.67415112609875, 62.09308129447337, 45.924424056560014, 40.909575472655625, 34.92298327763722, 27.460063319550184, 20.510064697456293, 9.167236943317299, 7.438272169285849, 1.844279062685123, 0.053941385385407666, 0.05394319172821186, 0.053938608206894376, 0.05393863762615829, 0.05393740201707399, 0.05394064990380987, 0.05393809042784953, 0.05393809042784953, 0.05393809042784953, 0.0539387023485389, 0.0539387023485389, 0.05394036747887631, 0.05394002033156215, 0.05394899909090808, 0.05394301521262839, 0.05393925543070044, 0.05393907303126419, 0.05393973202277581, 0.05393900830888358, 0.05393914363749758, 0.053940226266409534, 364.9708868621141, 271.0568358439823, 222.1436221026329, 157.0851156562041, 136.78289257204284, 127.4620165089545, 115.49887702480525, 106.69909167832215, 67.45691047822066, 62.68366418360528, 50.81553575310012, 36.457386729298506, 32.24270946987221, 28.502450830524257, 14.924470697048475, 14.019379865820223, 4.021962781614414, 2.871824633561085, 0.057069373453909354, 0.057066479598717954, 0.0570685934695023, 0.057066988284200815, 0.057066191343610996, 0.057066338297194937, 0.05706613482300179, 0.05706620829979376, 0.05706641742604782, 0.05706653611932716, 0.05706531527416829, 0.05706530962210737, 0.05706967301313815, 0.05706605004208798, 0.05706758740265841, 0.057070633863494674, 0.05706879129163452, 0.0570752289890232, 0.0570675026217446, 0.05706914737147253, 0.05707045864960613, 0.057068683902477026, 0.05706836173500455, 0.057072922948167557, 0.057069616492528945, 0.05706855390507585, 0.05706855955713677, 285.821807824099, 285.62514571707027, 194.59678133826196, 165.330778433719, 141.22941799250788, 123.92992865860684, 88.9720561730707, 87.98899468238498, 67.65294259063977, 63.75443696353451, 38.641040265473094, 16.15264219886036, 13.161078661527483, 0.0535722587960888, 0.0535722587960888, 0.053572709743288614, 0.053572562805436985, 0.0535725780059044, 0.05357530395639315, 0.05357561303256381, 0.05357282121338295, 0.05356984698859318, 0.053572841480672824, 0.05356870695353747, 0.05357092115495677, 0.05357056647738389, 0.0535699432582201, 0.053570536076449064, 0.05357019659934359, 0.053570054728314435, 0.05357954488680037, 0.05357154944094303, 0.05357296815123457, 0.0535719902544979, 0.0535715038395408, 0.05357322149235806, 0.05357077421710515, 425.1710446344895, 274.361317180228, 191.89906315759166, 101.03774988184274, 66.10705528233322, 34.17634562193124, 24.76708335903628, 23.017219639565106, 4.10878953258406, 0.04938872043244828, 0.049387609131692205, 0.04938841173779382, 0.04938768733433801, 0.04938766263876565, 0.04938913614124963, 0.049388428201508724, 0.049387160495461054, 0.04938385540469391, 0.04938223784470451, 0.049386287918571095, 0.049382641205719675, 0.0493823942499961, 0.04938208555534164, 0.04938310218973701, 0.04938210613498527, 0.04938244364114082, 0.04938207320755546, 0.04938142700674544, 0.04938142700674544, 0.049381435238602896, 0.04938269471279312, 0.049381945613764945, 0.04938238190220993, 0.04938609035399224, 0.0493872469299643, 0.049383542594110715, 0.0493831310012381, 0.04938360021711288, 0.04938809069535317, 0.04938669951144371, 0.04938435343206978, 0.04938370311533104, 0.04938368253568741, 0.04938361668082779, 0.04938319685609772, 285.480368607865, 215.43890423808645, 172.64908893976303, 137.37812637576346, 81.98701326967958, 81.02532164699248, 49.901736723158436, 31.991160541500044, 30.233186169694548, 27.236337639718172, 20.46816763331616, 20.07738869648082, 19.86643025817051, 10.523904642940536, 3.0375098628468495, 2.4431175810186554, 0.04717389468060528, 0.04717410409460304, 0.04717336909253248, 0.04717123389098671, 0.0471736811604507, 0.047171673249766316, 0.04717165682513904, 0.04717165682513904, 0.047171660931295864, 0.04717166503745268, 0.0471718662391368, 0.04717189498223453, 0.04717276548748012, 0.04716934916500688, 0.04717382898209618, 0.0471724123579937, 0.04717379202668481, 0.04717485552130088, 0.04717226864250504, 0.04717216598858457, 189.70172436846784, 143.38243813694285, 142.15632611540968, 114.35225808562889, 108.2001922408482, 80.29173873432516, 69.35761451520185, 62.958334481450265, 49.41849828329727, 35.64392708668024, 29.34097500340236, 28.816732963964164, 22.96049314993469, 14.415919140510706, 8.837604945792505, 8.358358734735319, 5.525154980703825, 1.604723256445268, 0.047306893700583635, 0.047306122339526864, 0.04730496529794171, 0.04730490565662289, 0.04730490565662289, 0.047304977226205476, 0.04730367306936723, 0.047306973222342064, 0.04730045243815082, 0.04730132320140563, 0.04730118403832838, 0.04730430526734675, 0.04730111246874579, 0.047306138243878554, 0.047310074570920825, 0.04730459552176501, 0.04730434105213804, 252.6618739266607, 148.84333301600486, 67.09299032868874, 63.61622971493961, 62.7941633715068, 52.8749132464415, 48.192691325476396, 37.12144064586525, 36.370721522739366, 33.156667905780225, 30.068445310535676, 29.388660215216884, 28.84400098635643, 26.519091939472922, 26.083638693716175, 25.07229641482107, 23.232566741846746, 20.051445361724895, 17.307215455099577, 14.73215013360837, 12.29513977636875, 9.651409012814696, 6.042498809832556, 5.4813883613214776, 0.046650603404708, 0.04665071980133318, 0.04665115822862135, 0.04665062668403304, 0.04665063056392054, 0.04665065384324558, 0.046652170879260386, 0.046652163119485376, 0.04665159277602201, 0.046650797399083295, 0.04665297401597411, 364.0343539721269, 182.24199825250076, 101.01300218274187, 93.02422935970044, 75.29361129539625, 52.732160408002464, 29.09026626017641, 21.818152245860023, 13.347788641463131, 0.04160121046254116, 0.041600037627362044, 0.041600037627362044, 0.041600037627362044, 0.04160004444617123, 0.04160005808378959, 0.041600054674385, 0.04160006831200336, 0.041600426299485356, 0.041602342384865175, 0.0416003751584165, 0.04160043311829454, 0.04160013650009517, 0.04160047403114962, 0.04160129910706051, 0.04160106044873917, 0.04159394843076354, 0.04159292560938641, 0.041592622172377865, 0.04159283696486706, 0.041592305097750956, 0.04159311653604348, 0.04159434733110062, 0.041595462206401694, 0.041594207545512414, 0.04159526446093545, 0.04159530196438594, 0.041594275733604226, 138.9218770873876, 132.3401145038564, 122.62818137671522, 42.39081859818229, 40.67022587306209, 26.465932044256114, 20.011826648026688, 19.298656904814504, 5.644544139169408, 0.032326877626948476, 0.032326877626948476, 0.032326886941967024, 0.03232692653079585, 0.032326877626948476, 0.032326877626948476, 0.03232690324324949, 0.03232731077531093, 0.032325883248718545, 0.03232694981834222, 0.03232701735222669, 0.03232723392640792, 0.03232689392823094, 0.03232725721395428, 0.032324676953816654, 0.03232472818641867, 0.032323901478522585, 0.032328223647128576, 0.03232360339792907, 0.03232350093272505, 0.03232365928804035, 0.032324132025231635, 0.03232801871672054, 0.03232418325783364, 0.03232550599046737, 0.03232494708935453, 165.4628031553672, 111.72676793254635, 46.608586738279506, 40.17889652404551, 26.25280123280494, 17.49624920595781, 12.288583203206713, 11.158105756287371, 7.154530287095871, 5.618853550018921, 0.03305909585517752, 0.033060791938083534, 0.03305934527913429, 0.033057028889692315, 0.033057028889692315, 0.033057028889692315, 0.033057028889692315, 0.033057028889692315, 0.033057028889692315, 0.033057028889692315, 0.03305703105859629, 0.03305672090532831, 0.033056250253166414, 0.033055781769908484, 0.033055781769908484, 0.033055781769908484, 0.033055781769908484, 0.033055781769908484, 0.033055781769908484, 0.033055788276620396, 0.03305802658551939, 0.033056148314679734, 0.033056070234136745, 0.03305888547149225, 0.03305659510889794, 0.03305643894781196, 0.03305618735495123, 0.03305674693217597, 0.033056543055202614, 0.033056725243136256, 0.0330563977386365, 0.03305641942767622, 53.86321114339137, 49.2442497712225, 17.42038010612868, 13.597733701160069, 12.449642842402039, 7.741059041541556, 2.9602443569698833, 2.4404673994608745, 1.5680661513743848, 0.4731330362004969, 0.019622423994699018, 0.019622613589939785, 0.019622423994699018, 0.019622423994699018, 0.019622423994699018, 0.019622423994699018, 0.019622423994699018, 0.0196224416314656, 0.019621242331337958, 0.01962047954118324, 0.01962047954118324, 0.01962047954118324, 0.01962047954118324, 0.01962047954118324, 0.01962043104007514, 0.01962043985845843, 0.01962047954118324, 0.01962043985845843, 0.019620761729448568, 0.01962040238032944, 0.019622437222273952, 0.019622492337169527, 0.019620669136424008, 0.019620666931828186, 0.019620534656078815, 0.019620574338803626, 0.019620583157186917, 0.019620761729448568, 0.01962051040552476, 0.019620558906632866, 0.019620545679057928, 0.019620700000765528, 0.0196206779548073, 0.01962057874799527, 98.19937039216944, 28.178089880417726, 19.5837464053899, 18.14348260838765, 0.018383904155314917, 0.018383855597394375, 0.018383855597394375, 0.018383868264677996, 0.01838418072434061, 0.018383855597394375, 0.018383861931036187, 0.018383855597394375, 0.018383864042250123, 0.018379797844208273, 0.018379797844208273, 0.01837930593136105, 0.018379143367887932, 0.01837897869320088, 0.018378816129727762, 0.01837865145504071, 0.018378486780353656, 0.018378486780353656, 0.018378486780353656, 0.018378440333647054, 0.018378364329945336, 0.01837837910844289, 0.01837837910844289, 0.01837837910844289, 0.01837832421688054, 0.01837832421688054, 0.018378461445786417, 0.01837858389619474, 0.018378659899896458, 0.01837874434845392, 0.018378507892493023, 0.018378854131578623, 0.018378596563478358, 0.018379035695977167, 0.018378921690424592, 0.018378550116771756], \"Total\": [14030.0, 12890.0, 12050.0, 9192.0, 1805.0, 1684.0, 1814.0, 1330.0, 1373.0, 1213.0, 1176.0, 1100.0, 993.0, 700.0, 840.0, 552.0, 862.0, 749.0, 621.0, 426.0, 634.0, 692.0, 687.0, 619.0, 365.0, 3181.0, 582.0, 707.0, 406.0, 523.0, 14030.407663152182, 12050.663973763603, 9192.360356638092, 12890.99352768257, 3181.141119380005, 2957.6222323034117, 2570.4831611888644, 2428.279310977741, 2278.4606459286783, 2239.1190748489566, 2008.6690058941829, 1949.141517396473, 1603.4105883779966, 1509.2589444926077, 1457.557178873613, 1319.639914233354, 1267.6289055958532, 1184.2561068891227, 1140.4024968156377, 1081.4216893347439, 1079.2597538764503, 1065.8671445032846, 1046.054900000669, 1031.1380984726939, 990.9702062832381, 921.7288609021357, 907.1438374917295, 785.1903858115949, 767.5656336182556, 743.5984802258916, 1814.6998461077198, 1213.0620955651661, 1176.3272883273696, 1100.2709299828805, 862.9781284416575, 707.2019095660796, 665.5702035089282, 646.2415037854546, 609.4408017747567, 478.37001638011816, 430.3694471775874, 365.0553679043766, 318.2380424322393, 308.3271238274796, 298.5228207536036, 263.3324100589674, 254.9198332103848, 252.32676331319237, 249.4936946355269, 233.51868433494602, 226.67512512680253, 223.35732656368106, 218.2728097791333, 206.2682522669567, 174.02079449986107, 173.65432394030287, 139.8600465497994, 139.81690271156964, 107.01695825465156, 103.57142758547066, 1805.841004626525, 1684.6754701925825, 993.264393670147, 749.6294436692547, 692.2186545147105, 687.4599444250614, 571.0754612021225, 470.6772800949481, 449.6415771064037, 307.2346066512583, 280.59912209160694, 258.32384555560645, 213.2526956906669, 193.63416790870514, 193.38772381264747, 179.70809123564894, 168.37111226271745, 135.25100193738854, 126.21535061812837, 115.46134168568337, 114.79921694975508, 112.09866985462908, 111.50455487401727, 109.58563957968065, 106.17606292302995, 105.77492834531233, 100.0394731410246, 91.5185579271043, 85.26787343552472, 83.92792495674838, 1373.9781513233227, 840.6567171938862, 634.0357309194644, 619.22066234114, 582.3680414323294, 555.6497622502487, 552.5192686105835, 484.1761133969978, 475.2495460498314, 366.12348888340085, 282.1734536663207, 263.97793833549713, 180.60084429086604, 170.9240852727315, 162.86317557971438, 150.97507632870492, 137.20731442098935, 137.00587208630438, 130.80741217061242, 110.71577395150094, 106.25364366706661, 77.8422967338015, 71.03246238585147, 62.247849874352475, 57.274450526237416, 56.948026741638344, 55.64737520588736, 55.250037531350664, 52.578035627321846, 42.680744694133466, 1330.8758525417616, 621.1548101730152, 523.1567039417895, 457.3503046755831, 443.00468121733934, 368.06005644920583, 352.09654188355216, 330.5715399205463, 273.98432606614085, 175.94798960634952, 157.01160734248128, 150.10610321759043, 133.12002502373971, 130.10368279713572, 129.7601731669485, 114.63364219181524, 108.51364383702632, 107.27534165232807, 54.97346281667089, 54.85813748147237, 52.01789372059394, 44.520501266731, 42.6401326538735, 38.743020678426774, 38.53272401954437, 38.296673259370884, 35.55122602926576, 31.893134676091513, 28.53466231878982, 28.484474679434115, 700.2977219154907, 410.25475640160624, 401.1436482402385, 347.76948564834805, 226.08299935788293, 199.53285994113136, 189.71885538639134, 183.7704867777454, 169.45637178689356, 162.51278539940148, 159.54112373731877, 118.06620465954641, 110.36468142099068, 110.07056203996761, 107.6949304539776, 82.10564530719678, 79.9200019175736, 74.206544151668, 70.34654737343281, 69.49900496713471, 54.54979435575731, 50.11059782946431, 31.521688487173908, 28.170388237581935, 27.62531227668431, 22.555073786306544, 10.559440684277643, 1.0818652814082796, 1.0819831995658347, 1.0817900257174549, 1.081907052834696, 1.0820333935428634, 1.0820097471127368, 552.0722037350895, 230.29535580876671, 224.46762409685203, 203.3342080435367, 173.66682811345132, 138.77745440590104, 121.91336511416664, 117.00848651495848, 108.28036972670817, 103.03489542533957, 76.00242797527396, 75.37872917236066, 73.85542404965958, 70.78025691970036, 63.23003903842393, 61.30068869897466, 60.976651860493746, 52.747176571094194, 52.459883353826605, 43.13154011360997, 36.711627741631524, 35.4987336916261, 26.40974774705466, 24.6325913399677, 23.691412749071592, 22.74992799476421, 21.058470428084775, 20.965769351308047, 18.475317289748833, 15.586765049151497, 270.34127096649064, 252.32374415649844, 212.1337084439356, 205.4456217841935, 126.57209471105266, 120.36164874936124, 92.42336054359073, 89.36323624064818, 75.31536064574867, 73.67790980086123, 49.56245307624023, 47.091171045814704, 46.63594919555515, 45.41328133304081, 41.83112499756428, 38.80970618959398, 24.984769565452087, 23.749181660500856, 23.56207334718988, 23.328973828377833, 22.64618201649035, 19.918232733646853, 19.548431508351594, 18.704697764761338, 16.0116561691735, 13.00637451455192, 5.468744543014177, 1.0819831995658347, 1.0818385154735708, 1.0818314751445481, 406.4348252723816, 388.8466234988404, 328.1584789692983, 149.38606873203375, 119.43947004645223, 82.80551883998082, 82.68794571670858, 75.95301933001527, 73.63029642580891, 66.70190519396485, 63.12083536233948, 46.95217812442612, 41.93732954052173, 35.95073734550333, 28.48781738741629, 21.537818765322402, 10.194991011183399, 8.466026385130546, 2.8720331305512254, 1.0817250162082062, 1.0817997484219963, 1.0817183770373524, 1.0817274086986315, 1.0817028346310442, 1.0817742550330647, 1.0817367838771763, 1.081736790129146, 1.0817369226134212, 1.081749744484169, 1.081749744484169, 1.0817847190709953, 1.08177901488308, 1.0820097471127368, 1.081907052834696, 1.0817734987321814, 1.0817667002813234, 1.0818109857008313, 1.0817694546581207, 1.0817879884219221, 1.0820333935428634, 365.995510357523, 272.0814593393912, 223.16824559804175, 158.10973915161296, 137.8075160674517, 128.48664000436335, 116.52350052021413, 107.72371517373102, 68.48153397362954, 63.70828767901415, 51.84015924850899, 37.48201022864185, 33.26733296528108, 29.527074325933132, 15.949094287635248, 15.04400336122909, 5.04658627702328, 3.896448128969953, 1.0817472415990501, 1.0817038184645473, 1.081744288974892, 1.0817138743315542, 1.0817015571760165, 1.0817050174764034, 1.0817019068561484, 1.0817034165548676, 1.081709421605592, 1.0817118867499147, 1.0816932833652095, 1.081693218017392, 1.0817854002524225, 1.0817100581821515, 1.0817477752583478, 1.0818341039563606, 1.0817895093167447, 1.0820097471127368, 1.0817522501491519, 1.081825676860145, 1.0818837369380208, 1.081808590161432, 1.0817956328808047, 1.0820333935428634, 1.0818663368463455, 1.0818472615126318, 1.081907052834696, 286.84992900423725, 286.65326689720854, 195.62490251840018, 166.3588996138572, 142.2575391726461, 124.95804983874507, 90.00017735320893, 89.01711586252321, 68.681063770778, 64.78255814367274, 39.66916145038402, 17.18076337899859, 14.189199841665706, 1.081749744484169, 1.081749744484169, 1.0817667002813234, 1.0817734987321814, 1.0817742550330647, 1.0818314751445481, 1.0818385154735708, 1.0817847190709953, 1.0817248795715209, 1.0817879884219221, 1.0817078047667799, 1.0817619041409052, 1.0817554750752925, 1.0817482531290177, 1.0817625503221688, 1.0817565778779399, 1.081753731061428, 1.0820333935428634, 1.081810450152806, 1.0818652814082796, 1.0818294962479411, 1.081818281912517, 1.0819831995658347, 1.0820097471127368, 426.20335086769336, 275.3936234134319, 192.93136939079545, 102.07005611504658, 67.13936151553706, 35.208651855135074, 25.799389592240118, 24.049525872768942, 5.141095835906784, 1.0817507492982863, 1.0817403601381432, 1.081762158604329, 1.0817476553845566, 1.0817536511376769, 1.0817945022292728, 1.0817792076059876, 1.0817900257174549, 1.0817323490761963, 1.0816990965149889, 1.0817895840209555, 1.0817131211130295, 1.0817077253060727, 1.0817009941848466, 1.081723419233235, 1.0817046471346368, 1.081713355920963, 1.081706945907057, 1.081693070729996, 1.081693070729996, 1.0816932580417542, 1.081722540566977, 1.0817068681991284, 1.0817186953058453, 1.0818309236853074, 1.0818837369380208, 1.0817582045241387, 1.0817472415990501, 1.0817758744419712, 1.0820097471127368, 1.0820333935428634, 1.0818652257510286, 1.0818165755809173, 1.0818190156343794, 1.0818663368463455, 1.0818472615126318, 286.5148889395228, 216.47342456974422, 173.6836092714208, 138.41264670742123, 83.02153360133738, 82.05984197865028, 50.93625705481622, 33.025680873157825, 31.26770650135234, 28.27085798388295, 21.50268796497395, 21.111909028138612, 20.9009505898283, 11.55842500323479, 4.072030194504634, 3.477637912676441, 1.0817417098458026, 1.0817480758729434, 1.0817421368094338, 1.081713506319667, 1.0817725523312962, 1.0817369226134212, 1.0817367838771763, 1.081736790129146, 1.0817379447597821, 1.0817383847953066, 1.0817459402320542, 1.081749163196004, 1.0817694546581207, 1.0817030028007315, 1.0818109857008313, 1.08177901488308, 1.081907052834696, 1.0820097471127368, 1.0817997484219963, 1.0820333935428634, 190.73611203985232, 144.41682582825663, 143.19071378679416, 115.38664575701341, 109.23457991223272, 81.32612640570969, 70.39200218658637, 63.99272215283477, 50.452885954681776, 36.67831475806475, 30.375362674786874, 29.85112063534868, 23.99488086325726, 15.450306811895215, 9.871992617177012, 9.392746406119828, 6.559542652088333, 2.6391109278297784, 1.0817559842442652, 1.0817709048827076, 1.081746612507108, 1.0817454105998596, 1.0817455028991225, 1.081748898909156, 1.0817568622238933, 1.0818472615126318, 1.0817007284780453, 1.081721104418451, 1.081718041682833, 1.0817895840209555, 1.0817166065659098, 1.0818652257510286, 1.0819831995658347, 1.0818304353305803, 1.0820097471127368, 253.69691451734977, 149.87837360669394, 68.12803091937784, 64.6512703056287, 63.82920397433172, 53.9099538371306, 49.227731916165496, 38.156481249061336, 37.405762113428466, 34.191708526823376, 31.103485901224772, 30.42370080590598, 29.879041577045527, 27.55413253016202, 27.11867929691226, 26.107337011762137, 24.267607332535842, 21.08648595241399, 18.342256045788673, 15.767190724297464, 13.330180367057844, 10.68644960350379, 7.0775394005216485, 6.51642895201057, 1.081744178939498, 1.0817482612461196, 1.081759729129429, 1.0817479732442967, 1.0817505815051123, 1.081751826877194, 1.0818088135711672, 1.0818107178604428, 1.0818139769912338, 1.0817654845201354, 1.0820333935428634, 365.07444914669856, 183.2820934270724, 102.05309735731352, 94.06432453427209, 76.3337064699679, 53.77225558257412, 30.130361434748064, 22.858247432938665, 14.38788382228675, 1.0817659262817196, 1.0817478364963284, 1.0817478463358485, 1.0817478583923452, 1.081750684778259, 1.0817529796745684, 1.0817540510541646, 1.0817570751670966, 1.08177075658617, 1.081825676860145, 1.0817756933037666, 1.0817888725442604, 1.0817837383237703, 1.0817933901107986, 1.0818149659753102, 1.0818663368463455, 1.0817287442984214, 1.081704165464187, 1.0817010256631627, 1.081706945907057, 1.0816962936089032, 1.0817201210965954, 1.0817568622238933, 1.081805122456994, 1.0817627640675938, 1.081830060065342, 1.0820097471127368, 1.0818652814082796, 139.97124089410653, 133.38947831057533, 123.67754518343415, 43.440182411153195, 41.719589679781016, 27.515295850975043, 21.061190454745617, 20.348020711533433, 6.693907951772188, 1.0817454105998596, 1.0817455028991225, 1.081746612507108, 1.081748898909156, 1.081749744484169, 1.081749744484169, 1.0817559842442652, 1.0817734987321814, 1.0817287442984214, 1.0817667002813234, 1.0817709048827076, 1.0817847190709953, 1.0817742550330647, 1.0817879884219221, 1.081704165464187, 1.0817243140534252, 1.0817012934576362, 1.0818472615126318, 1.0816938671300405, 1.0816932017042407, 1.0816985994790456, 1.0817169316575659, 1.0818652257510286, 1.0817465322034192, 1.0820097471127368, 1.0820333935428634, 166.5114347105899, 112.77539948776905, 47.65721829350221, 41.22752807926822, 27.301432788027647, 18.544880761180515, 13.337214758429417, 12.206737436989023, 8.203161842318574, 6.667485105241624, 1.081737529934262, 1.0817956328808047, 1.0817553660307226, 1.0817020050243222, 1.0817020050243222, 1.0817020050243222, 1.0817020050243222, 1.0817020050243222, 1.081702118981357, 1.081702419660864, 1.0817095217987616, 1.0817199607200618, 1.0817050317383485, 1.0816940539491804, 1.0816940539491804, 1.0816940539491804, 1.0816940539491804, 1.081694417929967, 1.0816954353258013, 1.0816976714532742, 1.0818190156343794, 1.081720401578169, 1.0817199353551037, 1.0819831995658347, 1.0817806961316907, 1.0817650051387921, 1.0817437411573252, 1.0818472615126318, 1.0818304353305803, 1.081907052834696, 1.0818109857008313, 1.0818304696647802, 54.92527725017282, 50.30631585330196, 18.48244618820814, 14.659799800519213, 13.511708924481498, 8.803125123621015, 4.022310439049343, 3.502533481540335, 2.630132233453845, 1.535199118279957, 1.081744178939498, 1.0817558804838538, 1.0817479732442967, 1.0817482612461196, 1.0817505815051123, 1.081751826877194, 1.081759729129429, 1.0817654845201354, 1.081723419233235, 1.0816927202527375, 1.0816927202527375, 1.0816927202527375, 1.0816927202527375, 1.0816928904029772, 1.0816917866197133, 1.0816923845304114, 1.0816955835140094, 1.0816935501614002, 1.0817128302721655, 1.0816935750831258, 1.0818107178604428, 1.0818139769912338, 1.0817254839786048, 1.0817262633643767, 1.0817074067450667, 1.0817169232734831, 1.0817195270439006, 1.0817895093167447, 1.081705268605936, 1.0817654431028523, 1.081753371729037, 1.0820097471127368, 1.0820333935428634, 1.0818028650752165, 99.26267865190714, 29.241398140155425, 20.647054665127598, 19.20679086812535, 1.0817515243900553, 1.08174876291429, 1.0817548773604413, 1.0817605432733308, 1.0817808322927456, 1.0817646392162255, 1.0817701211022912, 1.0817811522594492, 1.0818028650752165, 1.0817204970336602, 1.0817209163046948, 1.0817118894504476, 1.0817094647513588, 1.0817061741098248, 1.081703292357998, 1.0817004213362909, 1.0816975463981973, 1.0816975463981973, 1.0816979897055783, 1.0816979440028698, 1.0816937514307825, 1.0816952062524439, 1.0816952062524439, 1.0816952062524439, 1.0816946852424958, 1.0816946852424958, 1.081703058733034, 1.0817118867499147, 1.081718041682833, 1.081728854419442, 1.0817086723404086, 1.0817689488613151, 1.0817332903461094, 1.0820333935428634, 1.0820097471127368, 1.0817533413744582], \"Category\": [\"Default\", \"Default\", \"Default\", \"Default\", \"Default\", \"Default\", \"Default\", \"Default\", \"Default\", \"Default\", \"Default\", \"Default\", \"Default\", \"Default\", \"Default\", \"Default\", \"Default\", \"Default\", \"Default\", \"Default\", \"Default\", \"Default\", \"Default\", \"Default\", \"Default\", \"Default\", \"Default\", \"Default\", \"Default\", \"Default\", \"Topic1\", \"Topic1\", \"Topic1\", \"Topic1\", \"Topic1\", \"Topic1\", \"Topic1\", \"Topic1\", \"Topic1\", \"Topic1\", \"Topic1\", \"Topic1\", \"Topic1\", \"Topic1\", \"Topic1\", \"Topic1\", \"Topic1\", \"Topic1\", \"Topic1\", \"Topic1\", \"Topic1\", \"Topic1\", \"Topic1\", \"Topic1\", \"Topic1\", \"Topic1\", \"Topic1\", \"Topic1\", \"Topic1\", \"Topic1\", \"Topic2\", \"Topic2\", \"Topic2\", \"Topic2\", \"Topic2\", \"Topic2\", \"Topic2\", \"Topic2\", \"Topic2\", \"Topic2\", \"Topic2\", \"Topic2\", \"Topic2\", \"Topic2\", \"Topic2\", \"Topic2\", \"Topic2\", \"Topic2\", \"Topic2\", \"Topic2\", \"Topic2\", \"Topic2\", \"Topic2\", \"Topic2\", \"Topic2\", \"Topic2\", \"Topic2\", \"Topic2\", \"Topic2\", \"Topic2\", \"Topic3\", \"Topic3\", \"Topic3\", \"Topic3\", \"Topic3\", \"Topic3\", \"Topic3\", \"Topic3\", \"Topic3\", \"Topic3\", \"Topic3\", \"Topic3\", \"Topic3\", \"Topic3\", \"Topic3\", \"Topic3\", \"Topic3\", \"Topic3\", \"Topic3\", \"Topic3\", \"Topic3\", \"Topic3\", \"Topic3\", \"Topic3\", \"Topic3\", \"Topic3\", \"Topic3\", \"Topic3\", \"Topic3\", \"Topic3\", \"Topic4\", \"Topic4\", \"Topic4\", \"Topic4\", \"Topic4\", \"Topic4\", \"Topic4\", \"Topic4\", \"Topic4\", \"Topic4\", \"Topic4\", \"Topic4\", \"Topic4\", \"Topic4\", \"Topic4\", \"Topic4\", \"Topic4\", \"Topic4\", \"Topic4\", \"Topic4\", \"Topic4\", \"Topic4\", \"Topic4\", \"Topic4\", \"Topic4\", \"Topic4\", \"Topic4\", \"Topic4\", \"Topic4\", \"Topic4\", \"Topic5\", \"Topic5\", \"Topic5\", \"Topic5\", \"Topic5\", \"Topic5\", \"Topic5\", \"Topic5\", \"Topic5\", \"Topic5\", \"Topic5\", \"Topic5\", \"Topic5\", \"Topic5\", \"Topic5\", \"Topic5\", \"Topic5\", \"Topic5\", \"Topic5\", \"Topic5\", \"Topic5\", \"Topic5\", \"Topic5\", \"Topic5\", \"Topic5\", \"Topic5\", \"Topic5\", \"Topic5\", \"Topic5\", \"Topic5\", \"Topic6\", \"Topic6\", \"Topic6\", \"Topic6\", \"Topic6\", \"Topic6\", \"Topic6\", \"Topic6\", \"Topic6\", \"Topic6\", \"Topic6\", \"Topic6\", \"Topic6\", \"Topic6\", \"Topic6\", \"Topic6\", \"Topic6\", \"Topic6\", \"Topic6\", \"Topic6\", \"Topic6\", \"Topic6\", \"Topic6\", \"Topic6\", \"Topic6\", \"Topic6\", \"Topic6\", \"Topic6\", \"Topic6\", \"Topic6\", \"Topic6\", \"Topic6\", \"Topic6\", \"Topic7\", \"Topic7\", \"Topic7\", \"Topic7\", \"Topic7\", \"Topic7\", \"Topic7\", \"Topic7\", \"Topic7\", \"Topic7\", \"Topic7\", \"Topic7\", \"Topic7\", \"Topic7\", \"Topic7\", \"Topic7\", \"Topic7\", \"Topic7\", \"Topic7\", \"Topic7\", \"Topic7\", \"Topic7\", \"Topic7\", \"Topic7\", \"Topic7\", \"Topic7\", \"Topic7\", \"Topic7\", \"Topic7\", \"Topic7\", \"Topic8\", \"Topic8\", \"Topic8\", \"Topic8\", \"Topic8\", \"Topic8\", \"Topic8\", \"Topic8\", \"Topic8\", \"Topic8\", \"Topic8\", \"Topic8\", \"Topic8\", \"Topic8\", \"Topic8\", \"Topic8\", \"Topic8\", \"Topic8\", \"Topic8\", \"Topic8\", \"Topic8\", \"Topic8\", \"Topic8\", \"Topic8\", \"Topic8\", \"Topic8\", \"Topic8\", \"Topic8\", \"Topic8\", \"Topic8\", \"Topic9\", \"Topic9\", \"Topic9\", \"Topic9\", \"Topic9\", \"Topic9\", \"Topic9\", \"Topic9\", \"Topic9\", \"Topic9\", \"Topic9\", \"Topic9\", \"Topic9\", \"Topic9\", \"Topic9\", \"Topic9\", \"Topic9\", \"Topic9\", \"Topic9\", \"Topic9\", \"Topic9\", \"Topic9\", \"Topic9\", \"Topic9\", \"Topic9\", \"Topic9\", \"Topic9\", \"Topic9\", \"Topic9\", \"Topic9\", \"Topic9\", \"Topic9\", \"Topic9\", \"Topic9\", \"Topic9\", \"Topic9\", \"Topic9\", \"Topic9\", \"Topic9\", \"Topic9\", \"Topic10\", \"Topic10\", \"Topic10\", \"Topic10\", \"Topic10\", \"Topic10\", \"Topic10\", \"Topic10\", \"Topic10\", \"Topic10\", \"Topic10\", \"Topic10\", \"Topic10\", \"Topic10\", \"Topic10\", \"Topic10\", \"Topic10\", \"Topic10\", \"Topic10\", \"Topic10\", \"Topic10\", \"Topic10\", \"Topic10\", \"Topic10\", \"Topic10\", \"Topic10\", \"Topic10\", \"Topic10\", \"Topic10\", \"Topic10\", \"Topic10\", \"Topic10\", \"Topic10\", \"Topic10\", \"Topic10\", \"Topic10\", \"Topic10\", \"Topic10\", \"Topic10\", \"Topic10\", \"Topic10\", \"Topic10\", \"Topic10\", \"Topic10\", \"Topic10\", \"Topic11\", \"Topic11\", \"Topic11\", \"Topic11\", \"Topic11\", \"Topic11\", \"Topic11\", \"Topic11\", \"Topic11\", \"Topic11\", \"Topic11\", \"Topic11\", \"Topic11\", \"Topic11\", \"Topic11\", \"Topic11\", \"Topic11\", \"Topic11\", \"Topic11\", \"Topic11\", \"Topic11\", \"Topic11\", \"Topic11\", \"Topic11\", \"Topic11\", \"Topic11\", \"Topic11\", \"Topic11\", \"Topic11\", \"Topic11\", \"Topic11\", \"Topic11\", \"Topic11\", \"Topic11\", \"Topic11\", \"Topic11\", \"Topic11\", \"Topic12\", \"Topic12\", \"Topic12\", \"Topic12\", \"Topic12\", \"Topic12\", \"Topic12\", \"Topic12\", \"Topic12\", \"Topic12\", \"Topic12\", \"Topic12\", \"Topic12\", \"Topic12\", \"Topic12\", \"Topic12\", \"Topic12\", \"Topic12\", \"Topic12\", \"Topic12\", \"Topic12\", \"Topic12\", \"Topic12\", \"Topic12\", \"Topic12\", \"Topic12\", \"Topic12\", \"Topic12\", \"Topic12\", \"Topic12\", \"Topic12\", \"Topic12\", \"Topic12\", \"Topic12\", \"Topic12\", \"Topic12\", \"Topic12\", \"Topic12\", \"Topic12\", \"Topic12\", \"Topic12\", \"Topic12\", \"Topic12\", \"Topic12\", \"Topic12\", \"Topic13\", \"Topic13\", \"Topic13\", \"Topic13\", \"Topic13\", \"Topic13\", \"Topic13\", \"Topic13\", \"Topic13\", \"Topic13\", \"Topic13\", \"Topic13\", \"Topic13\", \"Topic13\", \"Topic13\", \"Topic13\", \"Topic13\", \"Topic13\", \"Topic13\", \"Topic13\", \"Topic13\", \"Topic13\", \"Topic13\", \"Topic13\", \"Topic13\", \"Topic13\", \"Topic13\", \"Topic13\", \"Topic13\", \"Topic13\", \"Topic13\", \"Topic13\", \"Topic13\", \"Topic13\", \"Topic13\", \"Topic13\", \"Topic14\", \"Topic14\", \"Topic14\", \"Topic14\", \"Topic14\", \"Topic14\", \"Topic14\", \"Topic14\", \"Topic14\", \"Topic14\", \"Topic14\", \"Topic14\", \"Topic14\", \"Topic14\", \"Topic14\", \"Topic14\", \"Topic14\", \"Topic14\", \"Topic14\", \"Topic14\", \"Topic14\", \"Topic14\", \"Topic14\", \"Topic14\", \"Topic14\", \"Topic14\", \"Topic14\", \"Topic14\", \"Topic14\", \"Topic14\", \"Topic14\", \"Topic14\", \"Topic14\", \"Topic14\", \"Topic14\", \"Topic15\", \"Topic15\", \"Topic15\", \"Topic15\", \"Topic15\", \"Topic15\", \"Topic15\", \"Topic15\", \"Topic15\", \"Topic15\", \"Topic15\", \"Topic15\", \"Topic15\", \"Topic15\", \"Topic15\", \"Topic15\", \"Topic15\", \"Topic15\", \"Topic15\", \"Topic15\", \"Topic15\", \"Topic15\", \"Topic15\", \"Topic15\", \"Topic15\", \"Topic15\", \"Topic15\", \"Topic15\", \"Topic15\", \"Topic15\", \"Topic15\", \"Topic15\", \"Topic15\", \"Topic15\", \"Topic15\", \"Topic16\", \"Topic16\", \"Topic16\", \"Topic16\", \"Topic16\", \"Topic16\", \"Topic16\", \"Topic16\", \"Topic16\", \"Topic16\", \"Topic16\", \"Topic16\", \"Topic16\", \"Topic16\", \"Topic16\", \"Topic16\", \"Topic16\", \"Topic16\", \"Topic16\", \"Topic16\", \"Topic16\", \"Topic16\", \"Topic16\", \"Topic16\", \"Topic16\", \"Topic16\", \"Topic16\", \"Topic16\", \"Topic16\", \"Topic16\", \"Topic16\", \"Topic16\", \"Topic16\", \"Topic16\", \"Topic16\", \"Topic16\", \"Topic16\", \"Topic17\", \"Topic17\", \"Topic17\", \"Topic17\", \"Topic17\", \"Topic17\", \"Topic17\", \"Topic17\", \"Topic17\", \"Topic17\", \"Topic17\", \"Topic17\", \"Topic17\", \"Topic17\", \"Topic17\", \"Topic17\", \"Topic17\", \"Topic17\", \"Topic17\", \"Topic17\", \"Topic17\", \"Topic17\", \"Topic17\", \"Topic17\", \"Topic17\", \"Topic17\", \"Topic17\", \"Topic17\", \"Topic17\", \"Topic17\", \"Topic17\", \"Topic17\", \"Topic17\", \"Topic17\", \"Topic17\", \"Topic18\", \"Topic18\", \"Topic18\", \"Topic18\", \"Topic18\", \"Topic18\", \"Topic18\", \"Topic18\", \"Topic18\", \"Topic18\", \"Topic18\", \"Topic18\", \"Topic18\", \"Topic18\", \"Topic18\", \"Topic18\", \"Topic18\", \"Topic18\", \"Topic18\", \"Topic18\", \"Topic18\", \"Topic18\", \"Topic18\", \"Topic18\", \"Topic18\", \"Topic18\", \"Topic18\", \"Topic18\", \"Topic18\", \"Topic18\", \"Topic18\", \"Topic18\", \"Topic18\", \"Topic18\", \"Topic18\", \"Topic18\", \"Topic18\", \"Topic18\", \"Topic18\", \"Topic18\", \"Topic18\", \"Topic18\", \"Topic19\", \"Topic19\", \"Topic19\", \"Topic19\", \"Topic19\", \"Topic19\", \"Topic19\", \"Topic19\", \"Topic19\", \"Topic19\", \"Topic19\", \"Topic19\", \"Topic19\", \"Topic19\", \"Topic19\", \"Topic19\", \"Topic19\", \"Topic19\", \"Topic19\", \"Topic19\", \"Topic19\", \"Topic19\", \"Topic19\", \"Topic19\", \"Topic19\", \"Topic19\", \"Topic19\", \"Topic19\", \"Topic19\", \"Topic19\", \"Topic19\", \"Topic19\", \"Topic19\", \"Topic19\", \"Topic19\", \"Topic19\", \"Topic19\", \"Topic19\", \"Topic19\", \"Topic19\", \"Topic19\", \"Topic19\", \"Topic19\", \"Topic19\", \"Topic20\", \"Topic20\", \"Topic20\", \"Topic20\", \"Topic20\", \"Topic20\", \"Topic20\", \"Topic20\", \"Topic20\", \"Topic20\", \"Topic20\", \"Topic20\", \"Topic20\", \"Topic20\", \"Topic20\", \"Topic20\", \"Topic20\", \"Topic20\", \"Topic20\", \"Topic20\", \"Topic20\", \"Topic20\", \"Topic20\", \"Topic20\", \"Topic20\", \"Topic20\", \"Topic20\", \"Topic20\", \"Topic20\", \"Topic20\", \"Topic20\", \"Topic20\", \"Topic20\", \"Topic20\", \"Topic20\", \"Topic20\", \"Topic20\", \"Topic20\", \"Topic20\", \"Topic20\"], \"logprob\": [30.0, 29.0, 28.0, 27.0, 26.0, 25.0, 24.0, 23.0, 22.0, 21.0, 20.0, 19.0, 18.0, 17.0, 16.0, 15.0, 14.0, 13.0, 12.0, 11.0, 10.0, 9.0, 8.0, 7.0, 6.0, 5.0, 4.0, 3.0, 2.0, 1.0, -2.0592, -2.2113, -2.4821, -2.1441, -3.5434, -3.6163, -3.7566, -3.8136, -3.8773, -3.8947, -4.0034, -4.0335, -4.2288, -4.2894, -4.3243, -4.4237, -4.464, -4.5321, -4.5698, -4.623, -4.625, -4.6375, -4.6563, -4.6707, -4.7104, -4.7829, -4.7989, -4.9434, -4.9662, -4.9979, -2.2646, -2.6677, -2.6985, -2.7654, -3.0085, -3.2079, -3.2686, -3.2981, -3.3569, -3.5995, -3.7054, -3.8705, -4.0081, -4.0399, -4.0723, -4.1982, -4.2308, -4.241, -4.2524, -4.3188, -4.3487, -4.3635, -4.3866, -4.4435, -4.6144, -4.6165, -4.8343, -4.8346, -5.1042, -5.1372, -2.0309, -2.1004, -2.6292, -2.9109, -2.9907, -2.9976, -3.1834, -3.3771, -3.4229, -3.8048, -3.8958, -3.9788, -4.1714, -4.2684, -4.2697, -4.3434, -4.409, -4.6295, -4.6991, -4.7889, -4.7947, -4.8188, -4.8241, -4.8416, -4.8735, -4.8774, -4.9337, -5.0236, -5.0952, -5.1112, -2.034, -2.5257, -2.8082, -2.8319, -2.8933, -2.9404, -2.946, -3.0783, -3.097, -3.3585, -3.6198, -3.6867, -4.068, -4.1234, -4.172, -4.2483, -4.3446, -4.3461, -4.3927, -4.5609, -4.6024, -4.9171, -5.0099, -5.144, -5.2287, -5.2345, -5.258, -5.2653, -5.3158, -5.529, -1.8143, -2.5772, -2.7492, -2.8839, -2.9158, -3.1016, -3.1461, -3.2093, -3.3977, -3.8427, -3.9572, -4.0025, -4.1235, -4.1466, -4.1492, -4.2742, -4.3296, -4.3412, -5.0188, -5.0209, -5.0751, -5.2341, -5.2783, -5.3766, -5.3821, -5.3885, -5.4649, -5.5769, -5.692, -5.6938, -2.1242, -2.6599, -2.6824, -2.8256, -3.2578, -3.3833, -3.434, -3.466, -3.5476, -3.5897, -3.6083, -3.9116, -3.9796, -3.9823, -4.0043, -4.2786, -4.3059, -4.3811, -4.4352, -4.4475, -4.6938, -4.7803, -5.256, -5.3724, -5.3927, -5.604, -6.4175, -11.2742, -11.2741, -11.2743, -11.2742, -11.2741, -11.2742, -2.0606, -2.9375, -2.9632, -3.0626, -3.2211, -3.4469, -3.5775, -3.6189, -3.6971, -3.7472, -4.0551, -4.0635, -4.0842, -4.1273, -4.2418, -4.2733, -4.2787, -4.4264, -4.4319, -4.632, -4.7974, -4.832, -5.1379, -5.2105, -5.2512, -5.2936, -5.3746, -5.3792, -5.5126, -5.6934, -2.4935, -2.5627, -2.737, -2.7692, -3.2567, -3.3074, -3.5741, -3.6082, -3.7814, -3.8037, -4.207, -4.2593, -4.2692, -4.2964, -4.3805, -4.4574, -4.913, -4.9659, -4.9742, -4.9846, -5.0157, -5.1505, -5.1703, -5.2169, -5.3822, -5.606, -6.5978, -10.9536, -10.954, -10.954, -2.0768, -2.1211, -2.2913, -3.0821, -3.3075, -3.6777, -3.6791, -3.7652, -3.7967, -3.897, -3.9531, -4.2547, -4.3703, -4.5285, -4.769, -5.0608, -5.8661, -6.075, -7.4696, -11.0015, -11.0015, -11.0016, -11.0016, -11.0016, -11.0016, -11.0016, -11.0016, -11.0016, -11.0016, -11.0016, -11.0016, -11.0016, -11.0014, -11.0015, -11.0016, -11.0016, -11.0016, -11.0016, -11.0016, -11.0016, -2.1417, -2.4392, -2.6382, -2.9847, -3.1231, -3.1937, -3.2922, -3.3715, -3.83, -3.9034, -4.1133, -4.4454, -4.5682, -4.6915, -5.3385, -5.4011, -6.6497, -6.9865, -10.905, -10.905, -10.905, -10.905, -10.905, -10.905, -10.905, -10.905, -10.905, -10.905, -10.9051, -10.9051, -10.905, -10.905, -10.905, -10.905, -10.905, -10.9049, -10.905, -10.905, -10.905, -10.905, -10.905, -10.9049, -10.905, -10.905, -10.905, -2.2768, -2.2775, -2.6613, -2.8242, -2.9818, -3.1125, -3.4439, -3.455, -3.7178, -3.7771, -4.2779, -5.1501, -5.3549, -10.8589, -10.8589, -10.8589, -10.8589, -10.8589, -10.8589, -10.8588, -10.8589, -10.859, -10.8589, -10.859, -10.8589, -10.8589, -10.859, -10.8589, -10.859, -10.859, -10.8588, -10.8589, -10.8589, -10.8589, -10.8589, -10.8589, -10.8589, -1.6718, -2.1099, -2.4674, -3.1088, -3.5331, -4.1928, -4.5148, -4.5881, -6.3112, -10.7324, -10.7324, -10.7324, -10.7324, -10.7324, -10.7324, -10.7324, -10.7324, -10.7325, -10.7325, -10.7324, -10.7325, -10.7325, -10.7325, -10.7325, -10.7325, -10.7325, -10.7325, -10.7325, -10.7325, -10.7325, -10.7325, -10.7325, -10.7325, -10.7324, -10.7324, -10.7325, -10.7325, -10.7325, -10.7324, -10.7324, -10.7325, -10.7325, -10.7325, -10.7325, -10.7325, -2.0678, -2.3493, -2.5707, -2.7992, -3.3154, -3.3272, -3.8119, -4.2565, -4.313, -4.4174, -4.7031, -4.7224, -4.7329, -5.3683, -6.6109, -6.8287, -10.7759, -10.7759, -10.7759, -10.7759, -10.7759, -10.7759, -10.7759, -10.7759, -10.7759, -10.7759, -10.7759, -10.7759, -10.7759, -10.776, -10.7759, -10.7759, -10.7759, -10.7759, -10.7759, -10.7759, -2.4443, -2.7243, -2.7328, -2.9505, -3.0058, -3.3041, -3.4505, -3.5473, -3.7894, -4.1162, -4.3108, -4.3288, -4.556, -5.0214, -5.5108, -5.5665, -5.9805, -7.2168, -10.7409, -10.7409, -10.7409, -10.7409, -10.7409, -10.7409, -10.7409, -10.7409, -10.741, -10.741, -10.741, -10.7409, -10.741, -10.7409, -10.7408, -10.7409, -10.7409, -2.1332, -2.6624, -3.4592, -3.5124, -3.5254, -3.6974, -3.7901, -4.0511, -4.0715, -4.164, -4.2618, -4.2847, -4.3034, -4.3874, -4.404, -4.4435, -4.5197, -4.667, -4.8142, -4.9752, -5.1561, -5.3982, -5.8665, -5.9639, -10.7303, -10.7303, -10.7303, -10.7303, -10.7303, -10.7303, -10.7303, -10.7303, -10.7303, -10.7303, -10.7303, -1.6388, -2.3307, -2.9208, -3.0032, -3.2146, -3.5708, -4.1656, -4.4533, -4.9447, -10.7156, -10.7157, -10.7157, -10.7157, -10.7157, -10.7157, -10.7157, -10.7157, -10.7157, -10.7156, -10.7157, -10.7157, -10.7157, -10.7157, -10.7156, -10.7156, -10.7158, -10.7158, -10.7158, -10.7158, -10.7159, -10.7158, -10.7158, -10.7158, -10.7158, -10.7158, -10.7158, -10.7158, -2.2209, -2.2694, -2.3457, -3.4079, -3.4493, -3.8789, -4.1585, -4.1948, -5.4241, -10.5867, -10.5867, -10.5867, -10.5867, -10.5867, -10.5867, -10.5867, -10.5867, -10.5867, -10.5867, -10.5867, -10.5867, -10.5867, -10.5867, -10.5867, -10.5867, -10.5868, -10.5866, -10.5868, -10.5868, -10.5868, -10.5867, -10.5866, -10.5867, -10.5867, -10.5867, -1.9749, -2.3676, -3.2419, -3.3904, -3.8159, -4.2217, -4.575, -4.6715, -5.116, -5.3576, -10.4932, -10.4931, -10.4931, -10.4932, -10.4932, -10.4932, -10.4932, -10.4932, -10.4932, -10.4932, -10.4932, -10.4932, -10.4932, -10.4933, -10.4933, -10.4933, -10.4933, -10.4933, -10.4933, -10.4933, -10.4932, -10.4932, -10.4932, -10.4932, -10.4932, -10.4932, -10.4932, -10.4932, -10.4932, -10.4932, -10.4932, -10.4932, -2.4204, -2.5101, -3.5492, -3.797, -3.8852, -4.3603, -5.3216, -5.5147, -5.957, -7.1552, -10.338, -10.3379, -10.338, -10.338, -10.338, -10.338, -10.338, -10.338, -10.338, -10.3381, -10.3381, -10.3381, -10.3381, -10.3381, -10.3381, -10.3381, -10.3381, -10.3381, -10.338, -10.3381, -10.338, -10.338, -10.338, -10.338, -10.338, -10.338, -10.338, -10.338, -10.3381, -10.338, -10.338, -10.338, -10.338, -10.338, -1.7766, -3.025, -3.3889, -3.4653, -10.3599, -10.3599, -10.3599, -10.3599, -10.3599, -10.3599, -10.3599, -10.3599, -10.3599, -10.3601, -10.3601, -10.3601, -10.3601, -10.3601, -10.3601, -10.3602, -10.3602, -10.3602, -10.3602, -10.3602, -10.3602, -10.3602, -10.3602, -10.3602, -10.3602, -10.3602, -10.3602, -10.3602, -10.3602, -10.3602, -10.3602, -10.3601, -10.3602, -10.3601, -10.3601, -10.3602], \"loglift\": [30.0, 29.0, 28.0, 27.0, 26.0, 25.0, 24.0, 23.0, 22.0, 21.0, 20.0, 19.0, 18.0, 17.0, 16.0, 15.0, 14.0, 13.0, 12.0, 11.0, 10.0, 9.0, 8.0, 7.0, 6.0, 5.0, 4.0, 3.0, 2.0, 1.0, 0.5817, 0.5817, 0.5817, 0.5816, 0.5815, 0.5815, 0.5814, 0.5814, 0.5814, 0.5814, 0.5813, 0.5813, 0.5812, 0.5811, 0.5811, 0.5811, 0.581, 0.581, 0.5809, 0.5809, 0.5809, 0.5809, 0.5809, 0.5808, 0.5808, 0.5807, 0.5807, 0.5805, 0.5805, 0.5805, 2.4216, 2.4213, 2.4213, 2.4212, 2.421, 2.4207, 2.4206, 2.4206, 2.4205, 2.4201, 2.4198, 2.4194, 2.419, 2.4189, 2.4188, 2.4183, 2.4182, 2.4182, 2.4181, 2.4178, 2.4177, 2.4176, 2.4175, 2.4173, 2.4164, 2.4164, 2.4149, 2.4149, 2.4127, 2.4124, 2.6602, 2.6602, 2.6598, 2.6594, 2.6593, 2.6593, 2.659, 2.6586, 2.6585, 2.6575, 2.6572, 2.6569, 2.656, 2.6556, 2.6556, 2.6552, 2.6548, 2.6533, 2.6528, 2.652, 2.652, 2.6518, 2.6517, 2.6516, 2.6513, 2.6512, 2.6507, 2.6497, 2.6489, 2.6487, 2.9305, 2.93, 2.9296, 2.9296, 2.9295, 2.9294, 2.9294, 2.9291, 2.9291, 2.9285, 2.9276, 2.9274, 2.9256, 2.9253, 2.925, 2.9245, 2.9238, 2.9238, 2.9235, 2.922, 2.9216, 2.9181, 2.9169, 2.9148, 2.9134, 2.9133, 2.9129, 2.9127, 2.9118, 2.9072, 3.182, 3.1812, 3.1809, 3.1806, 3.1805, 3.1801, 3.1799, 3.1797, 3.1791, 3.177, 3.1764, 3.1761, 3.1752, 3.175, 3.175, 3.174, 3.1735, 3.1733, 3.1643, 3.1642, 3.1632, 3.1599, 3.1588, 3.1564, 3.1563, 3.1561, 3.154, 3.1506, 3.1468, 3.1467, 3.5142, 3.5132, 3.5132, 3.5128, 3.5112, 3.5106, 3.5103, 3.5102, 3.5097, 3.5095, 3.5093, 3.5071, 3.5065, 3.5065, 3.5063, 3.5033, 3.503, 3.502, 3.5012, 3.5011, 3.497, 3.4954, 3.4832, 3.4793, 3.4785, 3.47, 3.4154, 0.837, 0.837, 0.837, 0.837, 0.8369, 0.8369, 3.8157, 3.8131, 3.813, 3.8125, 3.8116, 3.8102, 3.8091, 3.8088, 3.8081, 3.8076, 3.804, 3.8039, 3.8036, 3.803, 3.8013, 3.8008, 3.8007, 3.798, 3.7979, 3.7937, 3.7894, 3.7885, 3.7783, 3.7754, 3.7736, 3.7718, 3.768, 3.7678, 3.7609, 3.7501, 4.0968, 4.0965, 4.0957, 4.0956, 4.0924, 4.092, 4.0894, 4.089, 4.0869, 4.0866, 4.0797, 4.0786, 4.0783, 4.0777, 4.0758, 4.0738, 4.0587, 4.0565, 4.0561, 4.0556, 4.0543, 4.0477, 4.0467, 4.0442, 4.0344, 4.0185, 3.8931, 1.1575, 1.1573, 1.1573, 4.1057, 4.1056, 4.1051, 4.1013, 4.0996, 4.0957, 4.0957, 4.0946, 4.0942, 4.0927, 4.0918, 4.0861, 4.0834, 4.0792, 4.0715, 4.0593, 4.002, 3.9788, 3.6653, 1.1098, 1.1098, 1.1098, 1.1098, 1.1098, 1.1098, 1.1097, 1.1097, 1.1097, 1.1097, 1.1097, 1.1097, 1.1097, 1.1097, 1.1097, 1.1097, 1.1097, 1.1097, 1.1097, 1.1097, 1.1095, 4.1456, 4.1446, 4.1438, 4.1419, 4.141, 4.1404, 4.1396, 4.1389, 4.1333, 4.1322, 4.1285, 4.1207, 4.1171, 4.1131, 4.082, 4.0779, 3.9215, 3.8433, 1.2064, 1.2063, 1.2063, 1.2063, 1.2063, 1.2063, 1.2063, 1.2063, 1.2063, 1.2063, 1.2063, 1.2063, 1.2063, 1.2063, 1.2063, 1.2063, 1.2063, 1.2062, 1.2063, 1.2063, 1.2062, 1.2063, 1.2063, 1.2062, 1.2062, 1.2062, 1.2062, 4.2541, 4.2541, 4.2525, 4.2515, 4.2505, 4.2495, 4.2462, 4.2461, 4.2426, 4.2417, 4.2315, 4.196, 4.1825, 1.2524, 1.2524, 1.2524, 1.2524, 1.2524, 1.2524, 1.2524, 1.2524, 1.2524, 1.2524, 1.2524, 1.2524, 1.2524, 1.2524, 1.2524, 1.2524, 1.2524, 1.2523, 1.2524, 1.2523, 1.2523, 1.2523, 1.2522, 1.2522, 4.4631, 4.4618, 4.4602, 4.4554, 4.4501, 4.4358, 4.4247, 4.4217, 4.2414, 1.379, 1.3789, 1.3789, 1.3789, 1.3789, 1.3789, 1.3789, 1.3789, 1.3789, 1.3789, 1.3789, 1.3789, 1.3789, 1.3789, 1.3789, 1.3789, 1.3789, 1.3789, 1.3789, 1.3789, 1.3789, 1.3789, 1.3789, 1.3789, 1.3788, 1.3788, 1.3788, 1.3789, 1.3788, 1.3787, 1.3787, 1.3788, 1.3788, 1.3788, 1.3787, 1.3788, 4.4643, 4.4632, 4.462, 4.4604, 4.4554, 4.4553, 4.4474, 4.4361, 4.4343, 4.4307, 4.4186, 4.4177, 4.4172, 4.3742, 4.1748, 4.1149, 1.3355, 1.3355, 1.3355, 1.3354, 1.3354, 1.3354, 1.3354, 1.3354, 1.3354, 1.3354, 1.3354, 1.3354, 1.3354, 1.3354, 1.3354, 1.3354, 1.3353, 1.3352, 1.3354, 1.3352, 4.4947, 4.493, 4.4929, 4.4911, 4.4906, 4.4873, 4.4853, 4.4838, 4.4794, 4.4715, 4.4655, 4.4649, 4.4561, 4.4308, 4.3895, 4.3835, 4.3285, 4.0026, 1.3705, 1.3704, 1.3704, 1.3704, 1.3704, 1.3704, 1.3704, 1.3704, 1.3704, 1.3704, 1.3704, 1.3704, 1.3704, 1.3703, 1.3703, 1.3703, 1.3702, 4.5205, 4.5177, 4.5093, 4.5085, 4.5083, 4.5052, 4.5034, 4.4971, 4.4966, 4.4939, 4.4908, 4.49, 4.4894, 4.4863, 4.4857, 4.4842, 4.481, 4.4743, 4.4665, 4.4567, 4.4438, 4.4228, 4.3665, 4.3517, 1.381, 1.381, 1.381, 1.381, 1.381, 1.381, 1.381, 1.381, 1.3809, 1.381, 1.3808, 4.651, 4.6482, 4.6437, 4.6428, 4.6402, 4.6344, 4.6188, 4.6073, 4.5789, 1.3957, 1.3957, 1.3957, 1.3957, 1.3957, 1.3957, 1.3957, 1.3957, 1.3957, 1.3957, 1.3957, 1.3956, 1.3956, 1.3956, 1.3956, 1.3956, 1.3955, 1.3955, 1.3955, 1.3955, 1.3955, 1.3955, 1.3955, 1.3955, 1.3955, 1.3955, 1.3953, 1.3954, 5.0276, 5.0272, 5.0266, 5.0107, 5.0096, 4.9962, 4.984, 4.9822, 4.8646, 1.5247, 1.5247, 1.5247, 1.5247, 1.5247, 1.5247, 1.5247, 1.5247, 1.5247, 1.5247, 1.5247, 1.5246, 1.5246, 1.5246, 1.5246, 1.5246, 1.5246, 1.5246, 1.5246, 1.5246, 1.5246, 1.5246, 1.5246, 1.5246, 1.5244, 1.5243, 5.0999, 5.0969, 5.084, 5.0805, 5.0671, 5.048, 5.0243, 5.0164, 4.9694, 4.9351, 1.6182, 1.6182, 1.6182, 1.6182, 1.6182, 1.6182, 1.6182, 1.6182, 1.6182, 1.6182, 1.6182, 1.6181, 1.6181, 1.6181, 1.6181, 1.6181, 1.6181, 1.6181, 1.6181, 1.6181, 1.6181, 1.6181, 1.6181, 1.618, 1.6181, 1.6181, 1.6181, 1.618, 1.618, 1.618, 1.618, 1.618, 5.7635, 5.7617, 5.7239, 5.7078, 5.7012, 5.6545, 5.4765, 5.4217, 5.2659, 4.606, 1.7734, 1.7734, 1.7734, 1.7734, 1.7734, 1.7734, 1.7734, 1.7734, 1.7733, 1.7733, 1.7733, 1.7733, 1.7733, 1.7733, 1.7733, 1.7733, 1.7733, 1.7733, 1.7733, 1.7733, 1.7733, 1.7733, 1.7733, 1.7733, 1.7733, 1.7733, 1.7733, 1.7733, 1.7733, 1.7733, 1.7733, 1.7731, 1.773, 1.7732, 5.8156, 5.7893, 5.7734, 5.7694, 1.7515, 1.7515, 1.7515, 1.7515, 1.7514, 1.7514, 1.7514, 1.7514, 1.7514, 1.7513, 1.7513, 1.7512, 1.7512, 1.7512, 1.7512, 1.7512, 1.7512, 1.7512, 1.7512, 1.7512, 1.7512, 1.7512, 1.7512, 1.7512, 1.7512, 1.7512, 1.7512, 1.7512, 1.7512, 1.7512, 1.7512, 1.7512, 1.7512, 1.7509, 1.751, 1.7512]}, \"token.table\": {\"Topic\": [15, 7, 10, 5, 19, 7, 1, 7, 3, 7, 6, 10, 16, 9, 5, 3, 8, 19, 2, 6, 11, 7, 6, 6, 2, 15, 4, 16, 9, 19, 5, 13, 4, 4, 3, 8, 5, 6, 8, 6, 3, 18, 14, 5, 1, 1, 9, 1, 4, 4, 14, 2, 15, 14, 1, 8, 15, 10, 4, 4, 5, 14, 13, 18, 5, 4, 10, 5, 4, 3, 4, 1, 3, 5, 10, 2, 2, 12, 13, 15, 11, 5, 10, 6, 9, 3, 9, 19, 2, 2, 17, 14, 5, 15, 13, 6, 13, 15, 17, 1, 11, 13, 16, 1, 1, 12, 13, 10, 7, 8, 14, 3, 14, 16, 3, 1, 3, 1, 17, 14, 1, 5, 9, 14, 11, 2, 1, 4, 4, 12, 6, 7, 13, 8, 9, 7, 17, 1, 11, 1, 17, 6, 10, 4, 7, 1, 16, 8, 12, 11, 4, 11, 15, 17, 7, 7, 1, 4, 1, 9, 17, 10, 6, 2, 1, 10, 7, 9, 9, 2, 5, 5, 2, 5, 3, 14, 4, 14, 3, 4, 4, 6, 5, 7, 3, 18, 6, 5, 3, 3, 6, 12, 4, 15, 20, 14, 11, 5, 5, 8, 9, 7, 3, 18, 4, 10, 4, 9, 6, 8, 6, 8, 8, 7, 1, 3, 11, 1, 11, 7, 11, 2, 10, 1, 20, 2, 9, 2, 5, 4, 15, 9, 15, 6, 3, 19, 1, 12, 10, 9, 1, 17, 10, 7, 10, 15, 1, 3, 6, 4, 18, 18, 7, 20, 6, 6, 15, 20, 4, 2, 15, 14, 4, 15, 14, 6, 2, 15, 2, 4, 18, 8, 15, 8, 11, 9, 12, 2, 13, 8, 18, 5, 4, 8, 5, 7, 5, 8, 13, 19, 2, 5, 4, 5, 16, 8, 9, 7, 3, 12, 1, 3, 3, 16, 6, 4, 15, 13, 3, 7, 15, 14, 6, 3, 2, 16, 5, 18, 10, 9, 15, 11, 2, 8, 15, 5, 2, 2, 14, 7, 8, 19, 15, 9, 3, 8, 6, 8, 1, 1, 2, 3, 1, 2, 3, 2, 2, 1, 8, 14, 13, 15, 13, 7, 13, 7, 16, 8, 6, 8, 7, 10, 7, 18, 5, 4, 3, 2, 3, 8, 2, 5, 12, 2, 17, 15, 2, 13, 13, 10, 3, 7, 19, 8, 14, 19, 6, 6, 5, 7, 8, 7, 7], \"Freq\": [0.9624185677819994, 0.9858347570492777, 0.9604607591854993, 0.9849875548214236, 0.760418040796996, 0.9839831832235034, 0.9988962695933944, 0.9708158919691825, 0.9954750290282999, 0.9787818256763497, 0.9962109438994491, 0.9947651799882591, 0.9624843055004157, 0.9776492792747797, 0.9935571174666423, 0.9851307018172158, 0.9886516295838903, 0.9740327664400767, 0.9991244507852903, 0.9584532443177148, 0.9911601228310303, 0.9913810823044057, 0.9968446458034596, 0.9973294627196314, 0.9944827680877615, 0.9575852178541515, 0.9854649219360707, 0.9896808878458009, 0.9914397135906684, 0.5710152409793511, 0.9971198818490858, 0.5751030010081672, 0.9912008013123486, 0.9777483587441211, 0.9995990502595107, 0.9368175185324555, 0.9968856783492216, 0.9884884647710287, 0.9791365029758693, 0.9958073421295487, 0.9873434548364982, 0.8997380800527136, 0.9146979169484942, 0.9881115116234134, 0.9991951567387418, 0.9996669406994284, 0.9874525155362895, 0.9987390781434483, 0.9833527727670117, 0.996295378539345, 0.9585377869168462, 0.9938506630662878, 0.9834424846255613, 0.9714878162952177, 0.9995038724716067, 0.9947537868030469, 0.9484747740867838, 0.9941402610648867, 0.9992880881530899, 0.9938274738624191, 0.9861747635782468, 0.9844869522746065, 0.9301162734900073, 0.9702255231769402, 0.997732120539723, 0.9969313935939285, 0.7926150035741374, 0.9926311909117577, 0.9966730814951321, 0.9985610520762517, 0.9926581826677418, 0.9997896173836484, 0.9896093700977486, 0.9970475483195732, 0.9972799929798304, 0.9996143460808569, 0.993851442221388, 0.9895164541318515, 0.9550470670325089, 0.8477522568871565, 0.9879202339935819, 0.9812627073411081, 0.9929812093956539, 0.9876347994356542, 0.6963707969539135, 0.9995342864491555, 0.9797202566001776, 0.9087681803515405, 0.9962320319733138, 0.9971090196250639, 0.9930611396462413, 0.9886979021366249, 0.980821818603305, 0.9705799941815788, 0.951686756363561, 0.9977873687022497, 0.9594563643068125, 0.9941394239505231, 0.9449289639049494, 0.9993589330009767, 0.9968056085377913, 0.9876955585253013, 0.9035380157756817, 0.9996412861494722, 0.9988327611847606, 0.9971765804627216, 0.9960640542058721, 0.9821494564576548, 0.9943752412886591, 0.9950386007963361, 0.9712031150014531, 0.9985731366068671, 0.9961406781758322, 0.993004808036075, 0.9978763207414472, 0.9984839526398882, 0.9959815508262073, 0.9987701738469058, 0.8963373926304921, 0.9901893299473182, 0.9989393283413819, 0.9843571524504966, 0.9822430207726907, 0.9916844203419009, 0.9977210554609071, 0.9968179730541552, 0.9998520122596033, 0.9946999954001763, 0.9883664736478197, 0.7780442395302055, 0.9971490306645623, 0.9497365949868259, 0.9947127043026286, 0.9684544220844932, 0.8268341818889878, 0.9899558744533354, 0.9827517555828273, 0.9991202575383866, 0.9888869401969765, 0.999165852554857, 0.9668467687929545, 0.9834498558861724, 0.9306033549607108, 0.997370758036031, 0.9806157398783893, 0.9996177310354002, 0.9624534892512392, 0.9825352938036696, 0.9951725352194598, 0.9885739292644121, 0.9891794465330087, 0.990083674693056, 0.9899264113056105, 0.9337517525343699, 0.9577806435394162, 0.9889763480148771, 0.9986853515619625, 0.9799535264772797, 0.9994230029547525, 0.9907215663160662, 0.9945216798859547, 0.9783659347613323, 0.9899212387095043, 0.9991432857031128, 0.9992630811054044, 0.961904581692686, 0.9743189284782521, 0.973554441001688, 0.9978227315150059, 0.9956957279301116, 0.9661413603581455, 0.9944724586979887, 0.9961096969338513, 0.9478847794758205, 0.9889437876937076, 0.9802249951223632, 0.9840503088919385, 0.9061308730271542, 0.9978648468778483, 0.977374901679635, 0.9975708975216763, 0.977837066856718, 0.9982710552738943, 0.9721714334746016, 0.9987270321193383, 0.9931243915668582, 0.9952097266890529, 0.9993418976382441, 0.9926737993829454, 0.9903708177160995, 0.9935472315080367, 0.9563598102382005, 0.9882014053937317, 0.9870090190273221, 0.9575465532049684, 0.9815063815625388, 0.9918315183797717, 0.9946121032216937, 0.9883087285200906, 0.7314293012844485, 0.9879481209528777, 0.9670360277651515, 0.9982394948377044, 0.9909229374353966, 0.9992188045602273, 0.9869253797438926, 0.9983664470802577, 0.9894769843241545, 0.9773645173520058, 0.9768285429820144, 0.9784312744068268, 0.9863635412911085, 0.9946556893185355, 0.9961603023404348, 0.9999449014788688, 0.993038132393317, 0.9970370255722647, 0.9995150842086148, 0.9831314445297522, 0.9934617559981889, 0.9312741027303867, 0.9904972233257494, 0.9888823306226222, 0.9994731615214291, 0.9686611637532757, 0.9988448936091584, 0.882786457597407, 0.9977788315465068, 0.9804318543526311, 0.9976508988560486, 0.979889313170885, 0.9750290978310053, 0.9477654589030561, 0.9981468997043984, 0.9960597698702368, 0.9549925776956487, 0.9995002164639091, 0.9949395218518196, 0.9404922768328577, 0.9964697285194003, 0.9994143486318029, 0.949613937681927, 0.7699319741215357, 0.9943978335009149, 0.9932817469898447, 0.9513425861516844, 0.9991864422242899, 0.9943338494525085, 0.9808583729591631, 0.9890061387721097, 0.8998895243550101, 0.9862094701068228, 0.9466201737117356, 0.9872794219433159, 0.9865338698324576, 0.9966082491796302, 0.958748754514766, 0.9371685318796239, 0.9990601800876749, 0.9947418843099669, 0.9696910928051107, 0.9836937222474599, 0.9988306262426581, 0.9357644840921981, 0.7578309721314599, 0.9969415189415185, 0.997021617937015, 0.9645221148288938, 0.9963916765565052, 0.9958413746896675, 0.9523309711203745, 0.9907990087844036, 0.9651462714743113, 0.9761449962867161, 0.9161897883646902, 0.9916802175849729, 0.9656717371597175, 0.9982486405820374, 0.9897939477278597, 0.988687021459828, 0.901141689725188, 0.9822921321162311, 0.9945935924053242, 0.9538998893161977, 0.9719960209254361, 0.9737653672781111, 0.9915168981122799, 0.9719449865777062, 0.9816190448817501, 0.9831538902214662, 0.9940130966527673, 0.9941417065930509, 0.9935414748419669, 0.9952665506487115, 0.9825279482466555, 0.9688795592047967, 0.947773556422982, 0.9623549179511474, 0.9967249173244872, 0.9830299024325188, 0.9990209531254456, 0.9948752483427958, 0.9928241369964523, 0.988685141369571, 0.9753902917115024, 0.9980287118706198, 0.7672914163296919, 0.9689429302881848, 0.9901990821474167, 0.9925080805265992, 0.9972529641573464, 0.9116700497060981, 0.9470198563536972, 0.9981167791733537, 0.9941573393793822, 0.985638400803399, 0.998140865764698, 0.8533295008137366, 0.9837932741587179, 0.9964697576215708, 0.9831208566811298, 0.9923330282444276, 0.9939230712304659, 0.9714661828638568, 0.9002128755628058, 0.9915863520643121, 0.9941340659730071, 0.9941687204172557, 0.8517210679495844, 0.9934383493246202, 0.9801314213372776, 0.7458399955596262, 0.9532042201246731, 0.9902721599808165, 0.9941257685554231, 0.943033335364231, 0.9909694339491906, 0.9845995586481686, 0.9998996705451489, 0.9992092458714786, 0.9971360738900711, 0.9918566062533457, 0.9997677814610533, 0.00015514707968048623, 0.9907505163032533, 0.9988665663596552, 0.9988716674852822, 0.9989915443246159, 0.9954800881477179, 0.9879826149038644, 0.9931935082901158, 0.9750601567779659, 0.9473326156030407, 0.9884175866476049, 0.9870845232808756, 0.998057855969137, 0.9970569040117436, 0.9226245166609681, 0.9914056239282341, 0.9605852052038221, 0.9201465789944824, 0.9884296141270963, 0.9881754215474168, 0.9166950286132671, 0.9844948799005696, 0.9935350318572087, 0.9889234645676916, 0.9949401972257458, 0.9946558729599345, 0.9623250921440201, 0.9980788857134951, 0.9977889914569111, 0.969015174200844, 0.9976358626292153, 0.9895832990114846, 0.9268216492868744, 0.9983004718315636, 0.736733240349892, 0.9568942768437164, 0.9960252369197925, 0.9991603269127561, 0.9805466032105965, 0.9197916675578395, 0.9929634821533845, 0.9547211110032772, 0.8881185989921324, 0.9837407311516625, 0.9902738568775648, 0.996407363588006, 0.9817093072873639, 0.9847449991965702, 0.9868105795830617, 0.9539358973608191], \"Term\": [\"access\", \"addizzjonali\", \"agenda\", \"agenzija\", \"agrikola\", \"akbar\", \"aktar\", \"aktarx\", \"alla\", \"ambjentali\", \"anke\", \"anness\", \"annimali\", \"anzjani\", \"applikazzjoni\", \"aqwa\", \"arrangamenti\", \"art\", \"artikolu\", \"assigurazzjoni\", \"awtoritajiet\", \"a\\u0127jar\", \"a\\u0127na\", \"a\\u0127\\u0127ar\", \"bagit\", \"banek\", \"bank\", \"barra\", \"barranin\", \"bdiewa\", \"bejn\", \"beneficcju\", \"bi\", \"bid\", \"biex\", \"bilanc\", \"billi\", \"bir\", \"bis\", \"biss\", \"bzonn\", \"chairman\", \"chairperson\", \"cittadini\", \"dak\", \"dan\", \"darba\", \"dawn\", \"dazju\", \"decizjoni\", \"dibattitu\", \"dicembru\", \"diga\", \"dikjarazzjoni\", \"din\", \"direttiva\", \"doza\", \"dritt\", \"dwar\", \"ebda\", \"efficjenti\", \"ekonomija\", \"elettroniku\", \"emenda\", \"ewropea\", \"ewropew\", \"facilita\", \"farrugia\", \"fatt\", \"fejn\", \"fiha\", \"fil\", \"fin\", \"fir\", \"fis\", \"fl\", \"flimkien\", \"fond\", \"for\", \"fornitur\", \"forsi\", \"fruntieri\", \"ftehim\", \"ftit\", \"funzjoni\", \"fuq\", \"galea\", \"garanzija\", \"gdid\", \"gej\", \"generali\", \"gie\", \"glieda\", \"gurnal\", \"gust\", \"gvern\", \"gwida\", \"g\\u0127ad\", \"g\\u0127adhom\", \"g\\u0127al\", \"g\\u0127alhekk\", \"g\\u0127aliex\", \"g\\u0127aliha\", \"g\\u0127all\", \"g\\u0127andhom\", \"g\\u0127andu\", \"g\\u0127ar\", \"g\\u0127arfien\", \"g\\u0127as\", \"g\\u0127at\", \"g\\u0127awdex\", \"g\\u0127ax\", \"hawn\", \"hekk\", \"hemm\", \"hija\", \"hu\", \"huwa\", \"hux\", \"ic\", \"id\", \"ifisser\", \"ii\", \"iktar\", \"ikun\", \"ikunu\", \"il\", \"ilma\", \"imsemmija\", \"imur\", \"in\", \"indja\", \"informazzjoni\", \"infrastruttura\", \"inhuma\", \"inkluz\", \"investigazzjoni\", \"ir\", \"irid\", \"is\", \"isiru\", \"isptar\", \"istadju\", \"istati\", \"istudenti\", \"it\", \"iv\", \"ix\", \"iz\", \"jag\\u0127mel\", \"jag\\u0127mlu\", \"jag\\u0127ti\", \"jag\\u0127tu\", \"jaraw\", \"jaslu\", \"ja\\u0127dmu\", \"jekk\", \"jemenda\", \"jew\", \"jg\\u0127id\", \"jien\", \"jie\\u0127du\", \"jie\\u0127u\", \"jigi\", \"jigu\", \"jinsab\", \"jintuza\", \"jintuzaw\", \"jista\", \"jistg\\u0127u\", \"jitlob\", \"jkollhom\", \"jkunu\", \"jo\\u0127orgu\", \"jum\", \"kap\", \"kapacita\", \"kaxxa\", \"kaz\", \"kazijiet\", \"ke\", \"kellhom\", \"kemm\", \"kieku\", \"kien\", \"kienet\", \"kienu\", \"kif\", \"kodici\", \"kollox\", \"kollu\", \"kompletament\", \"komunita\", \"kondizzjonijiet\", \"konformita\", \"kongunt\", \"kont\", \"kontra\", \"kooperazzjoni\", \"kostijiet\", \"kriterji\", \"krizi\", \"kull\", \"kumitat\", \"kummissjoni\", \"kundizzjonijiet\", \"kunsill\", \"kura\", \"kwistjoni\", \"kwistjonijiet\", \"laqg\\u0127a\", \"laqg\\u0127at\", \"legali\", \"lejn\", \"li\", \"liema\", \"lil\", \"lill\", \"lis\", \"livell\", \"louis\", \"lulju\", \"lura\", \"ma\", \"mad\", \"mal\", \"mario\", \"matul\", \"medicini\", \"membri\", \"mg\", \"mhix\", \"mhumiex\", \"mhux\", \"mid\", \"miktub\", \"mill\", \"min\", \"ministri\", \"ministru\", \"minn\", \"minnu\", \"mira\", \"mis\", \"mit\", \"ml\", \"mod\", \"mog\\u0127ti\", \"mog\\u0127tija\", \"monitoragg\", \"mozzjoni\", \"mr\", \"naraw\", \"nazzjonali\", \"na\\u0127seb\", \"nies\", \"nofs\", \"notifika\", \"nru\", \"numru\", \"obbligi\", \"offerti\", \"onor\", \"operazzjoni\", \"osservat\", \"o\\u0127ra\", \"o\\u0127rajn\", \"pagna\", \"paragrafu\", \"parlament\", \"parlamentari\", \"partijiet\", \"partikolarment\", \"passi\", \"pazjent\", \"pazjenti\", \"perezempju\", \"permezz\", \"persuna\", \"persuni\", \"policy\", \"politici\", \"politika\", \"possibbilta\", \"postijiet\", \"prezzijiet\", \"prim\", \"privata\", \"problemi\", \"process\", \"prodotti\", \"programm\", \"proposta\", \"protezzjoni\", \"punt\", \"qafas\", \"qalb\", \"qalet\", \"qasam\", \"qatt\", \"qed\", \"qorti\", \"quddiem\", \"referenza\", \"regjuni\", \"regolament\", \"regolatorji\", \"relazzjoni\", \"responsabbli\", \"ricerka\", \"rigward\", \"rimarki\", \"rispett\", \"sabiex\", \"sal\", \"saret\", \"se\", \"segretarju\", \"sehem\", \"sena\", \"sentenza\", \"servizz\", \"servizzi\", \"setturi\", \"sewwa\", \"se\\u0127\\u0127\", \"sigurta\", \"sistema\", \"skola\", \"snin\", \"specifici\", \"specjalment\", \"ssir\", \"staqsa\", \"stat\", \"stati\", \"sur\", \"s\\u0127i\\u0127\", \"ta\", \"tad\", \"tag\\u0127hom\", \"tag\\u0127na\", \"tal\", \"tal\", \"talba\", \"tar\", \"tas\", \"tat\", \"tax\", \"taz\", \"ta\\u0127t\", \"teknici\", \"termini\", \"tfal\", \"the\", \"tieg\\u0127u\", \"tigi\", \"tindirizza\", \"tip\", \"tizgura\", \"tkopri\", \"tliet\", \"tmiem\", \"to\", \"traffikar\", \"trasport\", \"trid\", \"triq\", \"tul\", \"twaqqif\", \"ue\", \"ukoll\", \"universita\", \"unjoni\", \"uzu\", \"valuri\", \"wara\", \"wirt\", \"wisq\", \"wkoll\", \"xi\", \"xieraq\", \"xierqa\", \"xog\\u0127ol\", \"zee\", \"zg\\u0127azag\\u0127\", \"\\u0127a\", \"\\u0127addiema\", \"\\u0127afna\", \"\\u0127aga\", \"\\u0127ajja\", \"\\u0127ames\", \"\\u0127amrija\"]}, \"R\": 30, \"lambda.step\": 0.01, \"plot.opts\": {\"xlab\": \"PC1\", \"ylab\": \"PC2\"}, \"topic.order\": [6, 4, 13, 19, 12, 3, 2, 8, 5, 9, 17, 1, 7, 10, 14, 15, 16, 18, 11, 20]};\n",
       "\n",
       "function LDAvis_load_lib(url, callback){\n",
       "  var s = document.createElement('script');\n",
       "  s.src = url;\n",
       "  s.async = true;\n",
       "  s.onreadystatechange = s.onload = callback;\n",
       "  s.onerror = function(){console.warn(\"failed to load library \" + url);};\n",
       "  document.getElementsByTagName(\"head\")[0].appendChild(s);\n",
       "}\n",
       "\n",
       "if(typeof(LDAvis) !== \"undefined\"){\n",
       "   // already loaded: just create the visualization\n",
       "   !function(LDAvis){\n",
       "       new LDAvis(\"#\" + \"ldavis_el5426825681910932009877778672\", ldavis_el5426825681910932009877778672_data);\n",
       "   }(LDAvis);\n",
       "}else if(typeof define === \"function\" && define.amd){\n",
       "   // require.js is available: use it to load d3/LDAvis\n",
       "   require.config({paths: {d3: \"https://d3js.org/d3.v5\"}});\n",
       "   require([\"d3\"], function(d3){\n",
       "      window.d3 = d3;\n",
       "      LDAvis_load_lib(\"https://cdn.jsdelivr.net/gh/bmabey/pyLDAvis@3.4.0/pyLDAvis/js/ldavis.v3.0.0.js\", function(){\n",
       "        new LDAvis(\"#\" + \"ldavis_el5426825681910932009877778672\", ldavis_el5426825681910932009877778672_data);\n",
       "      });\n",
       "    });\n",
       "}else{\n",
       "    // require.js not available: dynamically load d3 & LDAvis\n",
       "    LDAvis_load_lib(\"https://d3js.org/d3.v5.js\", function(){\n",
       "         LDAvis_load_lib(\"https://cdn.jsdelivr.net/gh/bmabey/pyLDAvis@3.4.0/pyLDAvis/js/ldavis.v3.0.0.js\", function(){\n",
       "                 new LDAvis(\"#\" + \"ldavis_el5426825681910932009877778672\", ldavis_el5426825681910932009877778672_data);\n",
       "            })\n",
       "         });\n",
       "}\n",
       "</script>"
      ],
      "text/plain": [
       "PreparedData(topic_coordinates=              x         y  topics  cluster       Freq\n",
       "topic                                                \n",
       "5     -0.477394  0.252009       1        1  55.888805\n",
       "3     -0.205117 -0.335663       2        1   8.872981\n",
       "12    -0.146979 -0.122970       3        1   6.989507\n",
       "18    -0.122060 -0.082041       4        1   5.333127\n",
       "11    -0.056866 -0.020928       5        1   4.146932\n",
       "2      0.007263  0.008393       6        1   2.972780\n",
       "1      0.032709  0.015588       7        1   2.198240\n",
       "7      0.051940  0.019499       8        1   1.656343\n",
       "4      0.045702  0.018253       9        1   1.643690\n",
       "8      0.057163  0.020309      10        1   1.578937\n",
       "16     0.062007  0.021022      11        1   1.415447\n",
       "0      0.074319  0.022514      12        1   1.149809\n",
       "6      0.070529  0.022146      13        1   1.147080\n",
       "9      0.073913  0.022527      14        1   1.110744\n",
       "13     0.075124  0.022682      15        1   1.083870\n",
       "14     0.075841  0.022667      16        1   0.952438\n",
       "15     0.086387  0.023426      17        1   0.650552\n",
       "17     0.092915  0.023622      18        1   0.605896\n",
       "10     0.101947  0.023451      19        1   0.307934\n",
       "19     0.100656  0.023493      20        1   0.294890, topic_info=                Term          Freq         Total Category  logprob  loglift\n",
       "23                ta  14030.000000  14030.000000  Default  30.0000  30.0000\n",
       "24               tal  12890.000000  12890.000000  Default  29.0000  29.0000\n",
       "39                li  12050.000000  12050.000000  Default  28.0000  28.0000\n",
       "62                il   9192.000000   9192.000000  Default  27.0000  27.0000\n",
       "500              fuq   1805.000000   1805.000000  Default  26.0000  26.0000\n",
       "...              ...           ...           ...      ...      ...      ...\n",
       "1159      kompetenti      0.018379      1.081769  Topic20 -10.3601   1.7512\n",
       "4329  pubblikazzjoni      0.018379      1.081733  Topic20 -10.3602   1.7512\n",
       "1643            dawk      0.018379      1.082033  Topic20 -10.3601   1.7509\n",
       "1571             fit      0.018379      1.082010  Topic20 -10.3601   1.7510\n",
       "2236          civili      0.018379      1.081753  Topic20 -10.3602   1.7512\n",
       "\n",
       "[744 rows x 6 columns], token_table=      Topic      Freq          Term\n",
       "term                               \n",
       "497      15  0.962419        access\n",
       "948       7  0.985835  addizzjonali\n",
       "442      10  0.960461        agenda\n",
       "767       5  0.984988      agenzija\n",
       "77       19  0.760418      agrikola\n",
       "...     ...       ...           ...\n",
       "824       5  0.996407         ħafna\n",
       "605       7  0.981709          ħaga\n",
       "982       8  0.984745         ħajja\n",
       "964       7  0.986811         ħames\n",
       "606       7  0.953936       ħamrija\n",
       "\n",
       "[393 rows x 3 columns], R=30, lambda_step=0.01, plot_opts={'xlab': 'PC1', 'ylab': 'PC2'}, topic_order=[6, 4, 13, 19, 12, 3, 2, 8, 5, 9, 17, 1, 7, 10, 14, 15, 16, 18, 11, 20])"
      ]
     },
     "execution_count": 16,
     "metadata": {},
     "output_type": "execute_result"
    }
   ],
   "source": [
    "pyLDAvis.enable_notebook()\n",
    "\n",
    "visE = pyLDAvis.gensim.prepare(lda_model, corpus, id2word)\n",
    "visE"
   ]
  }
 ],
 "metadata": {
  "kernelspec": {
   "display_name": "Python 3",
   "language": "python",
   "name": "python3"
  },
  "language_info": {
   "codemirror_mode": {
    "name": "ipython",
    "version": 3
   },
   "file_extension": ".py",
   "mimetype": "text/x-python",
   "name": "python",
   "nbconvert_exporter": "python",
   "pygments_lexer": "ipython3",
   "version": "3.10.0"
  },
  "orig_nbformat": 4
 },
 "nbformat": 4,
 "nbformat_minor": 2
}
